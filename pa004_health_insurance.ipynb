{
  "nbformat": 4,
  "nbformat_minor": 0,
  "metadata": {
    "colab": {
      "name": "pa004_health_insurance.ipynb",
      "provenance": [],
      "collapsed_sections": [
        "QhfazWf5sy_q",
        "I7JtZ7TESFsU",
        "6i9-xOcQHYne",
        "5C4w8nP2Uo_q",
        "6vpTM01qUktD",
        "7uPeSkRcHYs1",
        "c-oLpV4SRI4B",
        "6F8CpKM-HY0-",
        "TOhtFigqQyQY",
        "OufUw2cqHY6W",
        "LR1KprZlZgAY",
        "Io_L-mLLdHn7",
        "oZc_h_JhQQmv",
        "sI9OfanWbyUO",
        "UqaCRNrDb2yv",
        "24UP5osFsIJh",
        "Yg1Gg1RasWxI",
        "heGuFufub2tQ",
        "W28uAZBLb_rQ",
        "mXd6ySyasQIC",
        "MJXFQVz6HY_9",
        "xpaIwR_oHZFu",
        "v3bs-MlrHZLP",
        "W7853aeq1Bnk",
        "berjztAi1FRU",
        "HODTmQNp1FWu",
        "_JdBM2lX1C3l"
      ],
      "toc_visible": true,
      "include_colab_link": true
    },
    "kernelspec": {
      "display_name": "Python 3",
      "language": "python",
      "name": "python3"
    },
    "language_info": {
      "codemirror_mode": {
        "name": "ipython",
        "version": 3
      },
      "file_extension": ".py",
      "mimetype": "text/x-python",
      "name": "python",
      "nbconvert_exporter": "python",
      "pygments_lexer": "ipython3",
      "version": "3.7.6"
    }
  },
  "cells": [
    {
      "cell_type": "markdown",
      "metadata": {
        "id": "view-in-github",
        "colab_type": "text"
      },
      "source": [
        "<a href=\"https://colab.research.google.com/github/danilodioliveira/Health-Insurance/blob/main/pa004_health_insurance.ipynb\" target=\"_parent\"><img src=\"https://colab.research.google.com/assets/colab-badge.svg\" alt=\"Open In Colab\"/></a>"
      ]
    },
    {
      "cell_type": "markdown",
      "metadata": {
        "id": "f1OomKXsXJx2"
      },
      "source": [
        "# **Health Insurance**"
      ]
    },
    {
      "cell_type": "markdown",
      "metadata": {
        "id": "0r3Zgw48Wftu"
      },
      "source": [
        "https://sejaumdatascientist.com/como-usar-data-science-para-fazer-a-empresa-vender-mais/"
      ]
    },
    {
      "cell_type": "markdown",
      "metadata": {
        "id": "ECoFuK6lWqHP"
      },
      "source": [
        "# Features Descriptions\n",
        "\n"
      ]
    },
    {
      "cell_type": "markdown",
      "metadata": {
        "id": "1_VJAzEuBZiO"
      },
      "source": [
        "# <font color = 'green'> **Ciclo 01** "
      ]
    },
    {
      "cell_type": "markdown",
      "metadata": {
        "id": "OF59IAlGG-qd"
      },
      "source": [
        "# 0.0. Imports"
      ]
    },
    {
      "cell_type": "code",
      "metadata": {
        "ExecuteTime": {
          "end_time": "2021-01-07T15:48:48.933142Z",
          "start_time": "2021-01-07T15:48:45.801247Z"
        },
        "id": "gGkLTxl4AjOD"
      },
      "source": [
        "# !pip install --upgrade pip"
      ],
      "execution_count": null,
      "outputs": []
    },
    {
      "cell_type": "code",
      "metadata": {
        "ExecuteTime": {
          "end_time": "2021-01-07T15:57:09.642000Z",
          "start_time": "2021-01-07T15:57:06.794417Z"
        },
        "colab": {
          "base_uri": "https://localhost:8080/"
        },
        "id": "-lGQhjlRUSKe",
        "outputId": "0ed212fc-774a-4a5a-886f-c63438a95057"
      },
      "source": [
        "!pip install inflection;\n",
        "!pip install boruta;\n",
        "!pip install git+https://github.com/psycopg/psycopg3.git#subdirectory=psycopg3;\n",
        "!pip install scikit-plot"
      ],
      "execution_count": 1,
      "outputs": [
        {
          "output_type": "stream",
          "text": [
            "Collecting inflection\n",
            "  Downloading https://files.pythonhosted.org/packages/59/91/aa6bde563e0085a02a435aa99b49ef75b0a4b062635e606dab23ce18d720/inflection-0.5.1-py2.py3-none-any.whl\n",
            "Installing collected packages: inflection\n",
            "Successfully installed inflection-0.5.1\n",
            "Collecting boruta\n",
            "\u001b[?25l  Downloading https://files.pythonhosted.org/packages/b2/11/583f4eac99d802c79af9217e1eff56027742a69e6c866b295cce6a5a8fc2/Boruta-0.3-py3-none-any.whl (56kB)\n",
            "\u001b[K     |████████████████████████████████| 61kB 4.1MB/s \n",
            "\u001b[?25hRequirement already satisfied: scipy>=0.17.0 in /usr/local/lib/python3.6/dist-packages (from boruta) (1.4.1)\n",
            "Requirement already satisfied: scikit-learn>=0.17.1 in /usr/local/lib/python3.6/dist-packages (from boruta) (0.22.2.post1)\n",
            "Requirement already satisfied: numpy>=1.10.4 in /usr/local/lib/python3.6/dist-packages (from boruta) (1.19.5)\n",
            "Requirement already satisfied: joblib>=0.11 in /usr/local/lib/python3.6/dist-packages (from scikit-learn>=0.17.1->boruta) (1.0.0)\n",
            "Installing collected packages: boruta\n",
            "Successfully installed boruta-0.3\n",
            "Collecting git+https://github.com/psycopg/psycopg3.git#subdirectory=psycopg3\n",
            "  Cloning https://github.com/psycopg/psycopg3.git to /tmp/pip-req-build-cxm43_dv\n",
            "  Running command git clone -q https://github.com/psycopg/psycopg3.git /tmp/pip-req-build-cxm43_dv\n",
            "  Installing build dependencies ... \u001b[?25l\u001b[?25hdone\n",
            "  Getting requirements to build wheel ... \u001b[?25l\u001b[?25hdone\n",
            "    Preparing wheel metadata ... \u001b[?25l\u001b[?25hdone\n",
            "Requirement already satisfied: typing-extensions in /usr/local/lib/python3.6/dist-packages (from psycopg3==2.99.0) (3.7.4.3)\n",
            "Building wheels for collected packages: psycopg3\n",
            "  Building wheel for psycopg3 (PEP 517) ... \u001b[?25l\u001b[?25hdone\n",
            "  Created wheel for psycopg3: filename=psycopg3-2.99.0-cp36-none-any.whl size=95299 sha256=031bbaa74b525dbd08bad4899473446da4f2513419621063566833f9836c94c4\n",
            "  Stored in directory: /tmp/pip-ephem-wheel-cache-7y9g9iio/wheels/5d/71/20/44e6b983287db648ab1c4eeffef99a656208828a8879b2577c\n",
            "Successfully built psycopg3\n",
            "Installing collected packages: psycopg3\n",
            "Successfully installed psycopg3-2.99.0\n",
            "Collecting scikit-plot\n",
            "  Downloading https://files.pythonhosted.org/packages/7c/47/32520e259340c140a4ad27c1b97050dd3254fdc517b1d59974d47037510e/scikit_plot-0.3.7-py3-none-any.whl\n",
            "Requirement already satisfied: scipy>=0.9 in /usr/local/lib/python3.6/dist-packages (from scikit-plot) (1.4.1)\n",
            "Requirement already satisfied: scikit-learn>=0.18 in /usr/local/lib/python3.6/dist-packages (from scikit-plot) (0.22.2.post1)\n",
            "Requirement already satisfied: matplotlib>=1.4.0 in /usr/local/lib/python3.6/dist-packages (from scikit-plot) (3.2.2)\n",
            "Requirement already satisfied: joblib>=0.10 in /usr/local/lib/python3.6/dist-packages (from scikit-plot) (1.0.0)\n",
            "Requirement already satisfied: numpy>=1.13.3 in /usr/local/lib/python3.6/dist-packages (from scipy>=0.9->scikit-plot) (1.19.5)\n",
            "Requirement already satisfied: cycler>=0.10 in /usr/local/lib/python3.6/dist-packages (from matplotlib>=1.4.0->scikit-plot) (0.10.0)\n",
            "Requirement already satisfied: python-dateutil>=2.1 in /usr/local/lib/python3.6/dist-packages (from matplotlib>=1.4.0->scikit-plot) (2.8.1)\n",
            "Requirement already satisfied: kiwisolver>=1.0.1 in /usr/local/lib/python3.6/dist-packages (from matplotlib>=1.4.0->scikit-plot) (1.3.1)\n",
            "Requirement already satisfied: pyparsing!=2.0.4,!=2.1.2,!=2.1.6,>=2.0.1 in /usr/local/lib/python3.6/dist-packages (from matplotlib>=1.4.0->scikit-plot) (2.4.7)\n",
            "Requirement already satisfied: six in /usr/local/lib/python3.6/dist-packages (from cycler>=0.10->matplotlib>=1.4.0->scikit-plot) (1.15.0)\n",
            "Installing collected packages: scikit-plot\n",
            "Successfully installed scikit-plot-0.3.7\n"
          ],
          "name": "stdout"
        }
      ]
    },
    {
      "cell_type": "code",
      "metadata": {
        "colab": {
          "base_uri": "https://localhost:8080/"
        },
        "id": "wfZv2mmmVAT9",
        "outputId": "feac4494-afe8-4f66-de84-f25ca3edb3cd"
      },
      "source": [
        "from google.colab import drive\n",
        "drive.mount('/content/drive')"
      ],
      "execution_count": 2,
      "outputs": [
        {
          "output_type": "stream",
          "text": [
            "Mounted at /content/drive\n"
          ],
          "name": "stdout"
        }
      ]
    },
    {
      "cell_type": "code",
      "metadata": {
        "ExecuteTime": {
          "end_time": "2021-01-07T15:53:08.690678Z",
          "start_time": "2021-01-07T15:53:08.679804Z"
        },
        "id": "y1KWt-UXHjfF"
      },
      "source": [
        "                                \n",
        "                                \n",
        "                                import pickle\n",
        "                                import psycopg3\n",
        "                                import joblib\n",
        "                                import warnings\n",
        "                                import inflection\n",
        "\n",
        "                                import numpy             as np\n",
        "                                import pandas            as pd\n",
        "                                import seaborn           as sns\n",
        "                                import matplotlib.pyplot as plt\n",
        "\n",
        "                                import scikitplot as skplt\n",
        "from scipy                      import stats\n",
        "\n",
        "from boruta                     import BorutaPy\n",
        "\n",
        "from IPython.display            import Image\n",
        "from IPython.core.display       import HTML \n",
        "\n",
        "from xgboost                    import XGBClassifier\n",
        "\n",
        "from lightgbm                   import LGBMClassifier\n",
        "\n",
        "from sklearn                    import preprocessing as pp\n",
        "from sklearn                    import model_selection as ms\n",
        "from sklearn.svm                import SVC\n",
        "from sklearn.dummy              import DummyClassifier\n",
        "from sklearn.ensemble           import RandomForestClassifier, RandomForestRegressor\n",
        "from sklearn.neighbors          import KNeighborsClassifier\n",
        "from sklearn.linear_model       import LogisticRegression\n",
        "\n",
        "from sklearn.metrics            import balanced_accuracy_score, precision_score, classification_report\n",
        "from sklearn.metrics            import recall_score, f1_score, make_scorer, cohen_kappa_score\n",
        "from sklearn.preprocessing      import MinMaxScaler, RobustScaler, LabelEncoder\n",
        "\n",
        "from sklearn.model_selection    import GridSearchCV, train_test_split, StratifiedKFold, StratifiedShuffleSplit"
      ],
      "execution_count": 24,
      "outputs": []
    },
    {
      "cell_type": "markdown",
      "metadata": {
        "id": "l2R5qyAkHYfk"
      },
      "source": [
        "\n",
        "## 0.1. Helper Functions"
      ]
    },
    {
      "cell_type": "markdown",
      "metadata": {
        "id": "0_pppw6Fy66U"
      },
      "source": [
        "## Models"
      ]
    },
    {
      "cell_type": "code",
      "metadata": {
        "id": "OVnTUVOXZwYM"
      },
      "source": [
        "warnings.filterwarnings('ignore')\r\n",
        "\r\n",
        "\r\n",
        "def ml_cv_results(model_name, model, x, y, verbose=1):\r\n",
        "    \r\n",
        "    '''initial'''\r\n",
        "    balanced_accuracies = []\r\n",
        "    precisions = []\r\n",
        "    recalls = []\r\n",
        "    f1s = []\r\n",
        "    kappas = []\r\n",
        "    \r\n",
        "    mm = MinMaxScaler()\r\n",
        "    \r\n",
        "    x_ = x.to_numpy()\r\n",
        "    y_ = y.to_numpy()\r\n",
        "    \r\n",
        "    count = 0\r\n",
        "    \r\n",
        "    '''cross-validation'''\r\n",
        "    skf = StratifiedKFold(n_splits=5, shuffle=True)\r\n",
        "    \r\n",
        "    for index_train, index_test in skf.split(x_, y_):\r\n",
        "        ## Showing the Fold\r\n",
        "        if verbose > 0:\r\n",
        "            count += 1\r\n",
        "            print('Fold K=%i' % (count))\r\n",
        "    \r\n",
        "        ## selecting train and test\r\n",
        "        x_train, x_test = x.iloc[index_train], x.iloc[index_test]\r\n",
        "        y_train, y_test = y.iloc[index_train], y.iloc[index_test]\r\n",
        "        \r\n",
        "        ## applying the scale\r\n",
        "        x_train = mm.fit_transform(x_train)\r\n",
        "        x_test = mm.transform(x_test)\r\n",
        "    \r\n",
        "        ## training the model\r\n",
        "        model.fit(x_train, y_train)\r\n",
        "        y_pred = model.predict(x_test)\r\n",
        "\r\n",
        "        ## saving the metrics\r\n",
        "        balanced_accuracies.append(balanced_accuracy_score(y_test, y_pred))\r\n",
        "        precisions.append(precision_score(y_test, y_pred))\r\n",
        "        recalls.append(recall_score(y_test, y_pred))\r\n",
        "        f1s.append(f1_score(y_test, y_pred))\r\n",
        "        kappas.append(cohen_kappa_score(y_test, y_pred))\r\n",
        "        \r\n",
        "        \r\n",
        "    '''results'''    \r\n",
        "    accuracy_mean, accuracy_std = np.round(np.mean(balanced_accuracies), 3), np.round(np.std(balanced_accuracies), 3)\r\n",
        "    precision_mean, precision_std = np.round(np.mean(precisions), 3), np.round(np.std(precisions), 3)\r\n",
        "    recall_mean, recall_std = np.round(np.mean(recalls), 3), np.round(np.std(recalls), 3)\r\n",
        "    f1_mean, f1_std = np.round(np.mean(f1s), 3), np.round(np.std(f1s), 3)\r\n",
        "    kappa_mean, kappa_std = np.round(np.mean(kappas), 3), np.round(np.std(kappas), 3)\r\n",
        "    \r\n",
        "    ## saving the results in a dataframe\r\n",
        "    return pd.DataFrame({\"Balanced Accuracy\": \"{} +/- {}\".format(accuracy_mean, accuracy_std),\r\n",
        "                        \"Precision\": \"{} +/- {}\".format(precision_mean, precision_std),\r\n",
        "                        \"Recall\": \"{} +/- {}\".format(recall_mean, recall_std),\r\n",
        "                        \"F1\": \"{} +/- {}\".format(f1_mean, f1_std),\r\n",
        "                        \"Kappa\": \"{} +/- {}\".format(kappa_mean, kappa_std)},\r\n",
        "                       index=[model_name])"
      ],
      "execution_count": null,
      "outputs": []
    },
    {
      "cell_type": "code",
      "metadata": {
        "id": "U3OdxLwO09l3"
      },
      "source": [
        "def ml_scores(model_name, y_true, y_pred):\r\n",
        "    \r\n",
        "    accuracy = balanced_accuracy_score(y_true, y_pred)\r\n",
        "    precision = precision_score(y_true, y_pred)\r\n",
        "    recall = recall_score(y_true, y_pred)\r\n",
        "    f1 = f1_score(y_true, y_pred)\r\n",
        "    kappa = cohen_kappa_score(y_true, y_pred)\r\n",
        "    \r\n",
        "    return pd.DataFrame({'Balanced Accuracy': np.round(accuracy, 3), \r\n",
        "                         'Precision': np.round(precision, 3), \r\n",
        "                         'Recall': np.round(recall, 3),\r\n",
        "                         'F1': np.round(f1, 3),\r\n",
        "                         'Kappa': np.round(kappa, 3)}, \r\n",
        "                        index=[model_name])\r\n",
        "\r\n"
      ],
      "execution_count": null,
      "outputs": []
    },
    {
      "cell_type": "code",
      "metadata": {
        "id": "C15AQfn-09tU"
      },
      "source": [
        "def cramer_v(x, y):\r\n",
        "    cm = pd.crosstab(x, y).values\r\n",
        "    n = cm.sum()\r\n",
        "    r, k = cm.shape\r\n",
        "    \r\n",
        "    chi2 = stats.chi2_contingency(cm)[0]\r\n",
        "    chi2corr = max(0, chi2 - (k-1)*(r-1)/(n-1))\r\n",
        "    \r\n",
        "    kcorr = k - (k-1)**2/(n-1)\r\n",
        "    rcorr = r - (r-1)**2/(n-1)\r\n",
        "    \r\n",
        "    return np.sqrt((chi2corr/n) / (min(kcorr-1, rcorr-1)))"
      ],
      "execution_count": null,
      "outputs": []
    },
    {
      "cell_type": "code",
      "metadata": {
        "id": "xJPwoe2p1UOs"
      },
      "source": [
        "def corr_cramer_v(categorical_attributes):\r\n",
        "    cat_attributes_list = categorical_attributes.columns.tolist()\r\n",
        "\r\n",
        "    corr_dict={}\r\n",
        "\r\n",
        "    for i in range(len(cat_attributes_list)):\r\n",
        "        corr_list=[]\r\n",
        "        for j in range(len(cat_attributes_list)):\r\n",
        "            ref=cat_attributes_list[i]\r\n",
        "            feat=cat_attributes_list[j]\r\n",
        "            corr = cramer_v(categorical_attributes[ref],categorical_attributes[feat])\r\n",
        "            corr_list.append(corr)\r\n",
        "        corr_dict[ref]= corr_list\r\n",
        "    return corr_dict"
      ],
      "execution_count": null,
      "outputs": []
    },
    {
      "cell_type": "code",
      "metadata": {
        "id": "LaD7reWC09xd"
      },
      "source": [
        "def fine_tuned_performance(model, x_train, y_train):\r\n",
        "    # define scoring metrics\r\n",
        "    scoring = {'accuracy': 'accuracy',\r\n",
        "               'precision': make_scorer(precision_score),\r\n",
        "               'recall': make_scorer(recall_score),\r\n",
        "               'f1_score': make_scorer(f1_score),\r\n",
        "               'roc_auc_score': make_scorer(roc_auc_score),\r\n",
        "               'mcc': make_scorer(matthews_corrcoef)}\r\n",
        "\r\n",
        "    # calculate scores with cross_validate\r\n",
        "    scores = cross_validate(model, x_train, y_train, cv=10, scoring=scoring)\r\n",
        "\r\n",
        "    # performance data frame\r\n",
        "    performance = pd.DataFrame.from_dict(scores).drop(['fit_time', 'score_time'], axis=1)\r\n",
        "    performance = pd.DataFrame(np.round(performance.mean(), 4).astype(str) + '+/-' + np.round(performance.std()*2,4).astype(str)).T\r\n",
        "    return performance"
      ],
      "execution_count": null,
      "outputs": []
    },
    {
      "cell_type": "code",
      "metadata": {
        "id": "7WKtIixx0910"
      },
      "source": [
        "def models_train(models,x_train,y_train,x_test,y_test,predict='predict',metric='regression',verbose=1):\r\n",
        "    metrics=pd.DataFrame()\r\n",
        "    for model in models:\r\n",
        "        print(model.__class__.__name__)\r\n",
        "        model.fit(x_train,y_train)\r\n",
        "        if predict=='predict':\r\n",
        "            yhat=model.predict(x_test)\r\n",
        "        elif predict=='predict_proba':\r\n",
        "            yhat=model.predict_proba(x_test)\r\n",
        "            yhat=yhat[:, 1]\r\n",
        "        \r\n",
        "        if metric=='regression':\r\n",
        "            metrics=metrics.append(regression_metrics(model.__class__.__name__,y_test,yhat,verbose))\r\n",
        "        elif metric=='multiClass':\r\n",
        "            metrics=metrics.append(multi_class_metrics(model.__class__.__name__,y_test,yhat,verbose))\r\n",
        "        elif metric=='binaryClass':\r\n",
        "            metrics=metrics.append(binary_class_metrics(model.__class__.__name__,y_test,yhat,verbose))\r\n",
        "            \r\n",
        "    return metrics"
      ],
      "execution_count": null,
      "outputs": []
    },
    {
      "cell_type": "code",
      "metadata": {
        "id": "r-czZeQG1MkM"
      },
      "source": [
        "# Model's performance function\r\n",
        "def performance(model, x_train, y_train):\r\n",
        "    # define scoring metrics\r\n",
        "    scoring = {'accuracy': 'accuracy',\r\n",
        "               'precision': make_scorer(precision_score),\r\n",
        "               'recall': make_scorer(recall_score),\r\n",
        "               'f1_score': make_scorer(f1_score),\r\n",
        "               'roc_auc_score': make_scorer(roc_auc_score),\r\n",
        "               'mcc': make_scorer(matthews_corrcoef)}\r\n",
        "\r\n",
        "    # calculate scores with cross_validate\r\n",
        "    scores = cross_validate(model, x_train, y_train, cv=10, scoring=scoring)\r\n",
        "\r\n",
        "    # performance data frame\r\n",
        "    performance = pd.DataFrame.from_dict(scores).drop(['fit_time', 'score_time'], axis=1)\r\n",
        "    performance = pd.DataFrame(performance.mean()).T\r\n",
        "    return performance\r\n",
        "\r\n",
        "\r\n",
        "    # Fine-tuned Model's performance function"
      ],
      "execution_count": null,
      "outputs": []
    },
    {
      "cell_type": "markdown",
      "metadata": {
        "id": "LfHerax-zCjM"
      },
      "source": [
        "## Graphics"
      ]
    },
    {
      "cell_type": "code",
      "metadata": {
        "ExecuteTime": {
          "end_time": "2021-01-07T14:27:30.288686Z",
          "start_time": "2021-01-07T14:27:08.476Z"
        },
        "id": "ceASqyBaHlrW"
      },
      "source": [
        "warnings.filterwarnings('ignore')\n",
        "\n",
        "def display_settings():\n",
        "  %matplotlib inline\n",
        "  %pylab inline\n",
        "\n",
        "  plt.style.use( 'bmh' )\n",
        "  plt.rcParams['figure.figsize'] = [18,10]\n",
        "  plt.rcParams['font.size'] = 20\n",
        "\n",
        "  display( HTML( '<style>.container {width:100% !important; }</style>') )\n",
        "  pd.options.display.max_columns = None\n",
        "  pd.options.display.max_rows = None\n",
        "  pd.set_option( 'display.expand_frame_repr', False )\n",
        "\n",
        "  sns.set()\n",
        "\n",
        "display_settings()"
      ],
      "execution_count": null,
      "outputs": []
    },
    {
      "cell_type": "code",
      "metadata": {
        "ExecuteTime": {
          "end_time": "2021-01-07T14:27:30.289647Z",
          "start_time": "2021-01-07T14:27:09.523Z"
        },
        "colab": {
          "base_uri": "https://localhost:8080/",
          "height": 34
        },
        "id": "LpsvZbj5UIiB",
        "outputId": "3a78c631-2e5d-4d7f-87cb-498314f1b898"
      },
      "source": [
        ""
      ],
      "execution_count": null,
      "outputs": [
        {
          "output_type": "stream",
          "text": [
            "Populating the interactive namespace from numpy and matplotlib\n"
          ],
          "name": "stdout"
        },
        {
          "output_type": "display_data",
          "data": {
            "text/html": [
              "<style>.container {width:100% !important; }</style>"
            ],
            "text/plain": [
              "<IPython.core.display.HTML object>"
            ]
          },
          "metadata": {
            "tags": []
          }
        }
      ]
    },
    {
      "cell_type": "code",
      "metadata": {
        "id": "mKyN_ZOx01F0"
      },
      "source": [
        "def graphic_percentage(ax,total):\r\n",
        "    for p in ax.patches:\r\n",
        "        height = p.get_height()\r\n",
        "        ax.text(p.get_x()+p.get_width()/2.,\r\n",
        "                height,\r\n",
        "                '{:1.2f}'.format(height/total*100),\r\n",
        "                ha=\"center\") \r\n",
        "    show"
      ],
      "execution_count": null,
      "outputs": []
    },
    {
      "cell_type": "markdown",
      "metadata": {
        "id": "JxewmjemzCmU"
      },
      "source": [
        "## Metricals"
      ]
    },
    {
      "cell_type": "code",
      "metadata": {
        "id": "xNOrCKN00VmV"
      },
      "source": [
        "def numerical_metrics(numerical_attributes):\r\n",
        "    #ct = central tendency\r\n",
        "    ct_mean = pd.DataFrame(numerical_attributes.apply(np.mean)).T\r\n",
        "    ct_median = pd.DataFrame(numerical_attributes.apply(np.median)).T\r\n",
        "\r\n",
        "    #d = dispersion\r\n",
        "    d_std = pd.DataFrame(numerical_attributes.apply(np.std)).T\r\n",
        "    d_min = pd.DataFrame(numerical_attributes.apply(min)).T\r\n",
        "    d_max = pd.DataFrame(numerical_attributes.apply(max)).T\r\n",
        "    d_range = pd.DataFrame(numerical_attributes.apply(lambda x: x.max() - x.min())).T\r\n",
        "    d_skew = pd.DataFrame(numerical_attributes.apply(lambda x: x.skew())).T\r\n",
        "    d_kurtosis = pd.DataFrame(numerical_attributes.apply(lambda x: x.kurtosis())).T\r\n",
        "\r\n",
        "    na_resume = pd.concat([d_min,d_max,d_range,ct_mean,ct_median,d_std,d_skew,d_kurtosis]).T.reset_index()\r\n",
        "    na_resume.columns=['Attributes','Min','Max','Range','Mean','Median','STD','Skew','Kurtosis']\r\n",
        "\r\n",
        "    return na_resume"
      ],
      "execution_count": null,
      "outputs": []
    },
    {
      "cell_type": "code",
      "metadata": {
        "id": "3sslTCKh0WyN"
      },
      "source": [
        "def regression_metrics(model,y_val,yhat,verbose =1):\r\n",
        "    \r\n",
        "    model = pd.DataFrame([model]).T\r\n",
        "    \r\n",
        "    #Accuracy\r\n",
        "    acc = m.accuracy_score(y_val,yhat)\r\n",
        "    accdf = pd.DataFrame([acc]).T\r\n",
        "\r\n",
        "    #Balanced Accuracy\r\n",
        "    balanced= m.balanced_accuracy_score(y_val,yhat)\r\n",
        "    balanceddf = pd.DataFrame([balanced]).T\r\n",
        "\r\n",
        "    #Kappa Metrics\r\n",
        "    kappa= m.cohen_kappa_score(y_val, yhat)\r\n",
        "    kappadf = pd.DataFrame([kappa]).T\r\n",
        "    \r\n",
        "    metrics = pd.concat([model,accdf,balanceddf,kappadf]).T.reset_index()\r\n",
        "    metrics.columns=['Index','Model','Accuracy','Balanced Accuracy','Kappa Score']\r\n",
        "    metrics.drop(['Index'],axis=1)\r\n",
        "    if verbose ==1:\r\n",
        "        print('Accuracy: {}'.format(acc))\r\n",
        "        print('Balanced Accuracy: {}'.format(balanced))\r\n",
        "        print('Kappa Score: {}'.format(kappa))\r\n",
        "        #Classification Report\r\n",
        "        print(m.classification_report(y_val,yhat))\r\n",
        "        # Confision Matrix\r\n",
        "        mt.plot_confusion_matrix(y_val,yhat,normalize=False,figsize=(12,12))\r\n",
        "        \r\n",
        "    return metrics"
      ],
      "execution_count": null,
      "outputs": []
    },
    {
      "cell_type": "code",
      "metadata": {
        "id": "-UUFOCWv0W33"
      },
      "source": [
        "def multi_class_metrics(model,y_val,yhat,verbose =1):\r\n",
        "    \r\n",
        "    model = pd.DataFrame([model]).T\r\n",
        "\r\n",
        "    #Precision Score\r\n",
        "    precision= m.precision_score(y_val, yhat)\r\n",
        "    precisiondf = pd.DataFrame([precision]).T\r\n",
        "    \r\n",
        "    #Recall Score\r\n",
        "    recall= m.recall_score(y_val, yhat)\r\n",
        "    recalldf = pd.DataFrame([recall]).T\r\n",
        "    \r\n",
        "    #F1 Score\r\n",
        "    f1= m.f1_score(y_val, yhat)\r\n",
        "    f1df = pd.DataFrame([f1]).T\r\n",
        "    \r\n",
        "    #MAtthews Correlation\r\n",
        "    mcc=m.matthews_corrcoef(y_val,yhat)\r\n",
        "    mccdf=pd.DataFrame([mcc])    \r\n",
        "    \r\n",
        "    metrics = pd.concat([model,precisiondf,recalldf,f1df,mccdf]).T.reset_index()\r\n",
        "    metrics.columns=['Index','Model','Precision Score','Recall Score','F1 Score','Matthew Correlation Score']\r\n",
        "    metrics.drop(['Index'],axis=1)\r\n",
        "    if verbose ==1:\r\n",
        "        print('Precision Score: {}'.format(precision))\r\n",
        "        print('Recall Score: {}'.format(recall))\r\n",
        "        print('F1 Score: {}'.format(f1))\r\n",
        "        print('Matthew Correlation Score: {}'.format(mcc))\r\n",
        "        #Classification Report\r\n",
        "        print(m.classification_report(y_val,yhat))\r\n",
        "        # Confision Matrix\r\n",
        "        mt.plot_confusion_matrix(y_val,yhat,normalize=False,figsize=(12,12))\r\n",
        "        \r\n",
        "    return metrics"
      ],
      "execution_count": null,
      "outputs": []
    },
    {
      "cell_type": "code",
      "metadata": {
        "id": "9HdIAlJx0W8F"
      },
      "source": [
        "def binary_class_metrics(model,y_val,yhat,verbose =1):\r\n",
        "    \r\n",
        "    model = pd.DataFrame([model]).T\r\n",
        "\r\n",
        "    #AUC_ROC\r\n",
        "    roc=m.roc_auc_score(y_val,yhat)\r\n",
        "    rocdf=pd.DataFrame([roc])\r\n",
        "    \r\n",
        "    #topk Score\r\n",
        "    knum=y_val.value_counts().count()-1\r\n",
        "    topk=m.top_k_accuracy_score(y_val,yhat,k=knum)\r\n",
        "    topkdf=pd.DataFrame([topk])    \r\n",
        "    \r\n",
        "    metrics = pd.concat([model,rocdf,topkdf]).T.reset_index()\r\n",
        "    metrics.columns=['Index','Model','ROC AUC','Top K Score']\r\n",
        "    metrics.drop(['Index'],axis=1)\r\n",
        "    if verbose ==1:\r\n",
        "        print('ROC AUC: {}'.format(roc))\r\n",
        "        print('Top K Score: {}'.format(topk))\r\n",
        "        #Classification Report\r\n",
        "        print(m.classification_report(y_val,yhat))\r\n",
        "        # Confision Matrix\r\n",
        "        mt.plot_confusion_matrix(y_val,yhat,normalize=False,figsize=(12,12))\r\n",
        "        \r\n",
        "    return metrics"
      ],
      "execution_count": null,
      "outputs": []
    },
    {
      "cell_type": "code",
      "metadata": {
        "id": "zzEPKHzb0W_9"
      },
      "source": [
        "def precision_at_k(df,score,target,perc=0.25):\r\n",
        "    k=np.floor(len(df)*perc)\r\n",
        "    print(k)\r\n",
        "    df.sort_values(score,ascending=False)\r\n",
        "    df=df.reset_index(drop=True)\r\n",
        "    df['ranking']=df.index+1\r\n",
        "    df['precision_at_k']=df[target].cumsum()/df['ranking']\r\n",
        "    return df.loc[k,'precision_at_k']"
      ],
      "execution_count": null,
      "outputs": []
    },
    {
      "cell_type": "code",
      "metadata": {
        "id": "z5g0i1uG0d8h"
      },
      "source": [
        "def recall_at_k(df,score,target,perc=0.25):\r\n",
        "    k=np.floor(len(df)*perc)    \r\n",
        "    df.sort_values(score,ascending=False)\r\n",
        "    df=df.reset_index(drop=True)\r\n",
        "    df['ranking']=df.index+1\r\n",
        "    df['recall_at_k']=df[target].cumsum()/df[target].sum()\r\n",
        "    return df.loc[k,'recall_at_k']"
      ],
      "execution_count": null,
      "outputs": []
    },
    {
      "cell_type": "markdown",
      "metadata": {
        "id": "FU-30HSB0lB7"
      },
      "source": [
        "## CrossValidation"
      ]
    },
    {
      "cell_type": "code",
      "metadata": {
        "id": "axzSKvqX0kgX"
      },
      "source": [
        "def cross_validation(num_folds,modelName,model,x,y,metric):\r\n",
        "    kfold=ms.StratifiedKFold(n_splits=num_folds,shuffle=True,random_state=seed)\r\n",
        "\r\n",
        "    cv_rf_metrics_list=pd.DataFrame()\r\n",
        "\r\n",
        "    i=1\r\n",
        "\r\n",
        "    for train_cv,val_cv in kfold.split(x_train,y_train):\r\n",
        "        print('Fold Number {}/{}'.format(i,num_folds))\r\n",
        "\r\n",
        "        x_train_fold = x_train.iloc[train_cv]\r\n",
        "        y_train_fold = y_train.iloc[train_cv]\r\n",
        "\r\n",
        "        x_val_fold = x_train.iloc[val_cv]\r\n",
        "        y_val_fold = y_train.iloc[val_cv]\r\n",
        "\r\n",
        "        model_fit = model.fit(x_train_fold,y_train_fold)\r\n",
        "\r\n",
        "        yhat_model=model_fit.predict(x_val_fold)\r\n",
        "        #metrics = model_metrics(modelName,y_val_fold,yhat_model,0)\r\n",
        "        cv_rf_metrics_list = cv_rf_metrics_list.append(metric('{} - {}/{}'.format(modelName,i,num_folds),y_val_fold,yhat_model,0))\r\n",
        "\r\n",
        "        i+=1\r\n",
        "    return cv_rf_metrics_list"
      ],
      "execution_count": null,
      "outputs": []
    },
    {
      "cell_type": "markdown",
      "metadata": {
        "id": "zPfgj7eozCpD"
      },
      "source": [
        "## Database"
      ]
    },
    {
      "cell_type": "code",
      "metadata": {
        "id": "Z2TMf6RbDex9"
      },
      "source": [
        "def get_table(name):\n",
        "  cur.execute( \"SELECT * FROM pa004.{}\".format( name) )\n",
        "  cols = [ desc[0] for desc in cur.description ]\n",
        "\n",
        "  aux = []\n",
        "  for i in cur:\n",
        "    aux.append(i)\n",
        "  \n",
        "  table = pd.DataFrame( aux, columns = cols)\n",
        "\n",
        "  return table"
      ],
      "execution_count": 8,
      "outputs": []
    },
    {
      "cell_type": "markdown",
      "metadata": {
        "id": "jeqG9ueKHYiW"
      },
      "source": [
        "## 0.2. Loading Data"
      ]
    },
    {
      "cell_type": "markdown",
      "metadata": {
        "id": "CPuNestbsuwA"
      },
      "source": [
        "### 0.2.1 Loading Path"
      ]
    },
    {
      "cell_type": "code",
      "metadata": {
        "id": "52vYCjiGSM80"
      },
      "source": [
        "path = '/content/drive/MyDrive/DataScience/Projects/Health Insurance'\n",
        "# path = '/home/danilo/gitrepos/comunidade DS/pa004_health_insurance_cross_sell'"
      ],
      "execution_count": 4,
      "outputs": []
    },
    {
      "cell_type": "markdown",
      "metadata": {
        "id": "QhfazWf5sy_q"
      },
      "source": [
        "### 0.2.2 Getting the Data"
      ]
    },
    {
      "cell_type": "code",
      "metadata": {
        "ExecuteTime": {
          "end_time": "2021-01-07T14:29:23.039801Z",
          "start_time": "2021-01-07T14:29:23.035466Z"
        },
        "id": "10RNiDBlAjOH"
      },
      "source": [
        "# #  Database: Postgres 12.0 - AWS\n",
        "# # Credentials:\n",
        "# host = ''\n",
        "# port = ''\n",
        "# db = ''\n",
        "# user = ''\n",
        "# pw = ''\n",
        "# # problema de negócio: https://sejaumdatascientist.com/como-usar-data-science-para-fazer-a-empresa-vender-mais/"
      ],
      "execution_count": 5,
      "outputs": []
    },
    {
      "cell_type": "code",
      "metadata": {
        "ExecuteTime": {
          "end_time": "2021-01-07T14:59:08.020254Z",
          "start_time": "2021-01-07T14:59:08.001183Z"
        },
        "id": "mItGDU3_AjOH",
        "colab": {
          "base_uri": "https://localhost:8080/",
          "height": 207
        },
        "outputId": "e4f1239e-56fd-45a8-9512-3b9154e1fbe7"
      },
      "source": [
        "# connection = psycopg3.connect( host = host, port = port, dbname = db, user = user, password = pw)\n",
        "# cur = connection.cursor()\n",
        "\n",
        "# cur.execute(\"SELECT * FROM information_schema.tables WHERE table_type = 'BASE TABLE' AND table_schema = 'pa004'\")\n",
        "# cols = [desc[0] for desc in cur.description ]\n",
        "\n",
        "# tables_name = []\n",
        "# for i in cur:\n",
        "#     tables_name.append(i)\n",
        "\n",
        "# tables_name = pd.DataFrame( tables_name, columns = cols)\n",
        "# tables_name"
      ],
      "execution_count": 6,
      "outputs": [
        {
          "output_type": "execute_result",
          "data": {
            "text/html": [
              "<div>\n",
              "<style scoped>\n",
              "    .dataframe tbody tr th:only-of-type {\n",
              "        vertical-align: middle;\n",
              "    }\n",
              "\n",
              "    .dataframe tbody tr th {\n",
              "        vertical-align: top;\n",
              "    }\n",
              "\n",
              "    .dataframe thead th {\n",
              "        text-align: right;\n",
              "    }\n",
              "</style>\n",
              "<table border=\"1\" class=\"dataframe\">\n",
              "  <thead>\n",
              "    <tr style=\"text-align: right;\">\n",
              "      <th></th>\n",
              "      <th>table_catalog</th>\n",
              "      <th>table_schema</th>\n",
              "      <th>table_name</th>\n",
              "      <th>table_type</th>\n",
              "      <th>self_referencing_column_name</th>\n",
              "      <th>reference_generation</th>\n",
              "      <th>user_defined_type_catalog</th>\n",
              "      <th>user_defined_type_schema</th>\n",
              "      <th>user_defined_type_name</th>\n",
              "      <th>is_insertable_into</th>\n",
              "      <th>is_typed</th>\n",
              "      <th>commit_action</th>\n",
              "    </tr>\n",
              "  </thead>\n",
              "  <tbody>\n",
              "    <tr>\n",
              "      <th>0</th>\n",
              "      <td>comunidadedsdb</td>\n",
              "      <td>pa004</td>\n",
              "      <td>users</td>\n",
              "      <td>BASE TABLE</td>\n",
              "      <td>None</td>\n",
              "      <td>None</td>\n",
              "      <td>None</td>\n",
              "      <td>None</td>\n",
              "      <td>None</td>\n",
              "      <td>YES</td>\n",
              "      <td>NO</td>\n",
              "      <td>None</td>\n",
              "    </tr>\n",
              "    <tr>\n",
              "      <th>1</th>\n",
              "      <td>comunidadedsdb</td>\n",
              "      <td>pa004</td>\n",
              "      <td>vehicle</td>\n",
              "      <td>BASE TABLE</td>\n",
              "      <td>None</td>\n",
              "      <td>None</td>\n",
              "      <td>None</td>\n",
              "      <td>None</td>\n",
              "      <td>None</td>\n",
              "      <td>YES</td>\n",
              "      <td>NO</td>\n",
              "      <td>None</td>\n",
              "    </tr>\n",
              "    <tr>\n",
              "      <th>2</th>\n",
              "      <td>comunidadedsdb</td>\n",
              "      <td>pa004</td>\n",
              "      <td>insurance</td>\n",
              "      <td>BASE TABLE</td>\n",
              "      <td>None</td>\n",
              "      <td>None</td>\n",
              "      <td>None</td>\n",
              "      <td>None</td>\n",
              "      <td>None</td>\n",
              "      <td>YES</td>\n",
              "      <td>NO</td>\n",
              "      <td>None</td>\n",
              "    </tr>\n",
              "  </tbody>\n",
              "</table>\n",
              "</div>"
            ],
            "text/plain": [
              "    table_catalog table_schema  ... is_typed commit_action\n",
              "0  comunidadedsdb        pa004  ...       NO          None\n",
              "1  comunidadedsdb        pa004  ...       NO          None\n",
              "2  comunidadedsdb        pa004  ...       NO          None\n",
              "\n",
              "[3 rows x 12 columns]"
            ]
          },
          "metadata": {
            "tags": []
          },
          "execution_count": 6
        }
      ]
    },
    {
      "cell_type": "code",
      "metadata": {
        "id": "DsxSHeaKEMa0"
      },
      "source": [
        "# users = get_table( tables_name['table_name'][0] )\n",
        "# vehicle = get_table( tables_name['table_name'][1] )\n",
        "# insurance = get_table(tables_name['table_name'][2] )\n",
        "\n"
      ],
      "execution_count": 9,
      "outputs": []
    },
    {
      "cell_type": "code",
      "metadata": {
        "id": "DzKc7afoEk_W",
        "colab": {
          "base_uri": "https://localhost:8080/",
          "height": 137
        },
        "outputId": "c201cbbb-c89b-49a6-902b-886f251937dd"
      },
      "source": [
        "# df_raw = users.merge( vehicle, how = 'inner', on = 'id' )\n",
        "# df_raw = df_raw.merge(insurance, how = 'inner', on = 'id' )\n",
        "# df_raw.sample(3)"
      ],
      "execution_count": 10,
      "outputs": [
        {
          "output_type": "execute_result",
          "data": {
            "text/html": [
              "<div>\n",
              "<style scoped>\n",
              "    .dataframe tbody tr th:only-of-type {\n",
              "        vertical-align: middle;\n",
              "    }\n",
              "\n",
              "    .dataframe tbody tr th {\n",
              "        vertical-align: top;\n",
              "    }\n",
              "\n",
              "    .dataframe thead th {\n",
              "        text-align: right;\n",
              "    }\n",
              "</style>\n",
              "<table border=\"1\" class=\"dataframe\">\n",
              "  <thead>\n",
              "    <tr style=\"text-align: right;\">\n",
              "      <th></th>\n",
              "      <th>id</th>\n",
              "      <th>gender</th>\n",
              "      <th>age</th>\n",
              "      <th>region_code</th>\n",
              "      <th>policy_sales_channel</th>\n",
              "      <th>driving_license</th>\n",
              "      <th>vehicle_age</th>\n",
              "      <th>vehicle_damage</th>\n",
              "      <th>previously_insured</th>\n",
              "      <th>annual_premium</th>\n",
              "      <th>vintage</th>\n",
              "      <th>response</th>\n",
              "    </tr>\n",
              "  </thead>\n",
              "  <tbody>\n",
              "    <tr>\n",
              "      <th>195220</th>\n",
              "      <td>195221</td>\n",
              "      <td>Female</td>\n",
              "      <td>31</td>\n",
              "      <td>41.0</td>\n",
              "      <td>156.0</td>\n",
              "      <td>1</td>\n",
              "      <td>&lt; 1 Year</td>\n",
              "      <td>Yes</td>\n",
              "      <td>0</td>\n",
              "      <td>47458.0</td>\n",
              "      <td>260</td>\n",
              "      <td>0</td>\n",
              "    </tr>\n",
              "    <tr>\n",
              "      <th>241845</th>\n",
              "      <td>241846</td>\n",
              "      <td>Male</td>\n",
              "      <td>43</td>\n",
              "      <td>28.0</td>\n",
              "      <td>26.0</td>\n",
              "      <td>1</td>\n",
              "      <td>1-2 Year</td>\n",
              "      <td>Yes</td>\n",
              "      <td>0</td>\n",
              "      <td>2630.0</td>\n",
              "      <td>284</td>\n",
              "      <td>0</td>\n",
              "    </tr>\n",
              "    <tr>\n",
              "      <th>256182</th>\n",
              "      <td>256183</td>\n",
              "      <td>Female</td>\n",
              "      <td>28</td>\n",
              "      <td>15.0</td>\n",
              "      <td>152.0</td>\n",
              "      <td>1</td>\n",
              "      <td>&lt; 1 Year</td>\n",
              "      <td>No</td>\n",
              "      <td>1</td>\n",
              "      <td>38528.0</td>\n",
              "      <td>124</td>\n",
              "      <td>0</td>\n",
              "    </tr>\n",
              "  </tbody>\n",
              "</table>\n",
              "</div>"
            ],
            "text/plain": [
              "            id  gender  age  ...  annual_premium  vintage  response\n",
              "195220  195221  Female   31  ...         47458.0      260         0\n",
              "241845  241846    Male   43  ...          2630.0      284         0\n",
              "256182  256183  Female   28  ...         38528.0      124         0\n",
              "\n",
              "[3 rows x 12 columns]"
            ]
          },
          "metadata": {
            "tags": []
          },
          "execution_count": 10
        }
      ]
    },
    {
      "cell_type": "code",
      "metadata": {
        "id": "2ft1vQrNn-8K"
      },
      "source": [
        "df_raw.to_csv(path+'/Data/df_raw.csv', index_label = False)"
      ],
      "execution_count": 12,
      "outputs": []
    },
    {
      "cell_type": "markdown",
      "metadata": {
        "id": "I7JtZ7TESFsU"
      },
      "source": [
        "## 0.3. Spliting into Train, Validation and Test"
      ]
    },
    {
      "cell_type": "code",
      "metadata": {
        "colab": {
          "base_uri": "https://localhost:8080/"
        },
        "id": "156vrJeyaL0b",
        "outputId": "022efb51-419e-42ca-ce5e-02f2bb13939f"
      },
      "source": [
        "df_raw['response'].value_counts(normalize = True)"
      ],
      "execution_count": 13,
      "outputs": [
        {
          "output_type": "execute_result",
          "data": {
            "text/plain": [
              "0    0.877437\n",
              "1    0.122563\n",
              "Name: response, dtype: float64"
            ]
          },
          "metadata": {
            "tags": []
          },
          "execution_count": 13
        }
      ]
    },
    {
      "cell_type": "code",
      "metadata": {
        "id": "xlKQAlqpaLxk"
      },
      "source": [
        "# apply stratified sampling\r\n",
        "split = StratifiedShuffleSplit(n_splits=1, test_size=0.2, random_state=50)\r\n",
        "\r\n",
        "for train_1_index, train_2_index in split.split(df_raw, df_raw['response']):\r\n",
        "  strat_train_set = df_raw.loc[train_1_index]\r\n",
        "  strat_test_set = df_raw.loc[train_2_index]"
      ],
      "execution_count": 14,
      "outputs": []
    },
    {
      "cell_type": "code",
      "metadata": {
        "colab": {
          "base_uri": "https://localhost:8080/"
        },
        "id": "sFbbYVf_aris",
        "outputId": "619a3e1d-755b-4fb5-f8bc-c61bfaf07270"
      },
      "source": [
        "strat_train_set['response'].value_counts(normalize = True)"
      ],
      "execution_count": 15,
      "outputs": [
        {
          "output_type": "execute_result",
          "data": {
            "text/plain": [
              "0    0.877437\n",
              "1    0.122563\n",
              "Name: response, dtype: float64"
            ]
          },
          "metadata": {
            "tags": []
          },
          "execution_count": 15
        }
      ]
    },
    {
      "cell_type": "code",
      "metadata": {
        "colab": {
          "base_uri": "https://localhost:8080/"
        },
        "id": "YrtHzbLqa2nk",
        "outputId": "f5aca23e-7a70-4404-a534-2b76d66af327"
      },
      "source": [
        "strat_train_set['response'].value_counts(normalize = True)"
      ],
      "execution_count": 16,
      "outputs": [
        {
          "output_type": "execute_result",
          "data": {
            "text/plain": [
              "0    0.877437\n",
              "1    0.122563\n",
              "Name: response, dtype: float64"
            ]
          },
          "metadata": {
            "tags": []
          },
          "execution_count": 16
        }
      ]
    },
    {
      "cell_type": "code",
      "metadata": {
        "id": "Yt_fWaN5AjOI"
      },
      "source": [
        "strat_test_set.to_csv(path+'/Data/test.csv')\r\n",
        "strat_train_set.to_csv(path+'/Data/train.csv')"
      ],
      "execution_count": 17,
      "outputs": []
    },
    {
      "cell_type": "markdown",
      "metadata": {
        "id": "6i9-xOcQHYne"
      },
      "source": [
        "# 1.0. Data Description"
      ]
    },
    {
      "cell_type": "code",
      "metadata": {
        "id": "_fWOfEz_IGqu"
      },
      "source": [
        "df1 = pd.read_csv(path+'/Data/train.csv')"
      ],
      "execution_count": null,
      "outputs": []
    },
    {
      "cell_type": "markdown",
      "metadata": {
        "id": "5C4w8nP2Uo_q"
      },
      "source": [
        "## 1.1. Rename Columns"
      ]
    },
    {
      "cell_type": "code",
      "metadata": {
        "id": "f6R0cxcgUsaN"
      },
      "source": [
        "df1.columns = ('Index', 'id', 'gender', 'age', 'region_code',\r\n",
        "       'policy_sales_channel', 'driving_license', 'vehicle_age',\r\n",
        "       'vehicle_damage', 'previously_insured', 'annual_premium', 'vintage',\r\n",
        "       'response')"
      ],
      "execution_count": null,
      "outputs": []
    },
    {
      "cell_type": "code",
      "metadata": {
        "colab": {
          "base_uri": "https://localhost:8080/"
        },
        "id": "O-A5z1yZWI1I",
        "outputId": "db25423a-07d7-4c6d-92d2-7ce80e187bd3"
      },
      "source": [
        "df1.columns"
      ],
      "execution_count": null,
      "outputs": [
        {
          "output_type": "execute_result",
          "data": {
            "text/plain": [
              "Index(['Index', 'id', 'gender', 'age', 'region_code', 'policy_sales_channel',\n",
              "       'driving_license', 'vehicle_age', 'vehicle_damage',\n",
              "       'previously_insured', 'annual_premium', 'vintage', 'response'],\n",
              "      dtype='object')"
            ]
          },
          "metadata": {
            "tags": []
          },
          "execution_count": 21
        }
      ]
    },
    {
      "cell_type": "code",
      "metadata": {
        "id": "8FQsjhv2Xix7"
      },
      "source": [
        "# cols_old = ('step', 'type', 'amount', 'nameOrig', 'oldbalanceOrig', 'newbalanceOrig',\n",
        "#        'nameDest', 'oldbalanceDest', 'newbalanceDest', 'isFraud',\n",
        "#        'isFlaggedFraud')"
      ],
      "execution_count": null,
      "outputs": []
    },
    {
      "cell_type": "code",
      "metadata": {
        "id": "C3QlfyolXqdI"
      },
      "source": [
        "# snakecase = lambda x: inflection.underscore( x)\n",
        "\n",
        "# cols_new = list(map( snakecase, cols_old) )\n",
        "\n",
        "# df1.columns = cols_new\n",
        "# df1.columns"
      ],
      "execution_count": null,
      "outputs": []
    },
    {
      "cell_type": "markdown",
      "metadata": {
        "id": "6vpTM01qUktD"
      },
      "source": [
        "## 1.2. Data Dimensions"
      ]
    },
    {
      "cell_type": "code",
      "metadata": {
        "colab": {
          "base_uri": "https://localhost:8080/"
        },
        "id": "y7ROgL0HUoFt",
        "outputId": "73a5b014-f14e-4835-f651-0d3ce2d07121"
      },
      "source": [
        "print('The dataset has {} columns'.format(df1.shape[1] ) )\n",
        "print('The dataset has {} rows'.format(df1.shape[0] ) )"
      ],
      "execution_count": null,
      "outputs": [
        {
          "output_type": "stream",
          "text": [
            "The dataset has 13 columns\n",
            "The dataset has 304887 rows\n"
          ],
          "name": "stdout"
        }
      ]
    },
    {
      "cell_type": "markdown",
      "metadata": {
        "id": "7uPeSkRcHYs1"
      },
      "source": [
        "## 1.3. Data Type"
      ]
    },
    {
      "cell_type": "code",
      "metadata": {
        "colab": {
          "base_uri": "https://localhost:8080/"
        },
        "id": "McJlv0orHYve",
        "outputId": "47562162-25fd-41d4-9222-8c70bd87ef47"
      },
      "source": [
        "df1.info()"
      ],
      "execution_count": null,
      "outputs": [
        {
          "output_type": "stream",
          "text": [
            "<class 'pandas.core.frame.DataFrame'>\n",
            "RangeIndex: 304887 entries, 0 to 304886\n",
            "Data columns (total 13 columns):\n",
            " #   Column                Non-Null Count   Dtype  \n",
            "---  ------                --------------   -----  \n",
            " 0   Index                 304887 non-null  int64  \n",
            " 1   id                    304887 non-null  int64  \n",
            " 2   gender                304887 non-null  object \n",
            " 3   age                   304887 non-null  int64  \n",
            " 4   region_code           304887 non-null  float64\n",
            " 5   policy_sales_channel  304887 non-null  float64\n",
            " 6   driving_license       304887 non-null  int64  \n",
            " 7   vehicle_age           304887 non-null  object \n",
            " 8   vehicle_damage        304887 non-null  object \n",
            " 9   previously_insured    304887 non-null  int64  \n",
            " 10  annual_premium        304887 non-null  float64\n",
            " 11  vintage               304887 non-null  int64  \n",
            " 12  response              304887 non-null  int64  \n",
            "dtypes: float64(3), int64(7), object(3)\n",
            "memory usage: 30.2+ MB\n"
          ],
          "name": "stdout"
        }
      ]
    },
    {
      "cell_type": "code",
      "metadata": {
        "colab": {
          "base_uri": "https://localhost:8080/"
        },
        "id": "m_0fADOlHYyN",
        "outputId": "c6330acd-be8c-41fc-ec93-ab51bead0e2f"
      },
      "source": [
        "df1.sample(2)"
      ],
      "execution_count": null,
      "outputs": [
        {
          "output_type": "execute_result",
          "data": {
            "text/html": [
              "<div>\n",
              "<style scoped>\n",
              "    .dataframe tbody tr th:only-of-type {\n",
              "        vertical-align: middle;\n",
              "    }\n",
              "\n",
              "    .dataframe tbody tr th {\n",
              "        vertical-align: top;\n",
              "    }\n",
              "\n",
              "    .dataframe thead th {\n",
              "        text-align: right;\n",
              "    }\n",
              "</style>\n",
              "<table border=\"1\" class=\"dataframe\">\n",
              "  <thead>\n",
              "    <tr style=\"text-align: right;\">\n",
              "      <th></th>\n",
              "      <th>Index</th>\n",
              "      <th>id</th>\n",
              "      <th>gender</th>\n",
              "      <th>age</th>\n",
              "      <th>region_code</th>\n",
              "      <th>policy_sales_channel</th>\n",
              "      <th>driving_license</th>\n",
              "      <th>vehicle_age</th>\n",
              "      <th>vehicle_damage</th>\n",
              "      <th>previously_insured</th>\n",
              "      <th>annual_premium</th>\n",
              "      <th>vintage</th>\n",
              "      <th>response</th>\n",
              "    </tr>\n",
              "  </thead>\n",
              "  <tbody>\n",
              "    <tr>\n",
              "      <th>11976</th>\n",
              "      <td>78535</td>\n",
              "      <td>78536</td>\n",
              "      <td>Male</td>\n",
              "      <td>46</td>\n",
              "      <td>29.0</td>\n",
              "      <td>26.0</td>\n",
              "      <td>1</td>\n",
              "      <td>1-2 Year</td>\n",
              "      <td>Yes</td>\n",
              "      <td>0</td>\n",
              "      <td>41839.0</td>\n",
              "      <td>224</td>\n",
              "      <td>0</td>\n",
              "    </tr>\n",
              "    <tr>\n",
              "      <th>4572</th>\n",
              "      <td>39835</td>\n",
              "      <td>39836</td>\n",
              "      <td>Female</td>\n",
              "      <td>39</td>\n",
              "      <td>47.0</td>\n",
              "      <td>124.0</td>\n",
              "      <td>1</td>\n",
              "      <td>1-2 Year</td>\n",
              "      <td>Yes</td>\n",
              "      <td>0</td>\n",
              "      <td>39636.0</td>\n",
              "      <td>80</td>\n",
              "      <td>0</td>\n",
              "    </tr>\n",
              "  </tbody>\n",
              "</table>\n",
              "</div>"
            ],
            "text/plain": [
              "       Index     id  gender  age  region_code  policy_sales_channel  driving_license vehicle_age vehicle_damage  previously_insured  annual_premium  vintage  response\n",
              "11976  78535  78536    Male   46         29.0                  26.0                1    1-2 Year            Yes                   0         41839.0      224         0\n",
              "4572   39835  39836  Female   39         47.0                 124.0                1    1-2 Year            Yes                   0         39636.0       80         0"
            ]
          },
          "metadata": {
            "tags": []
          },
          "execution_count": 26
        }
      ]
    },
    {
      "cell_type": "markdown",
      "metadata": {
        "id": "c-oLpV4SRI4B"
      },
      "source": [
        "## 1.4. Change Types"
      ]
    },
    {
      "cell_type": "code",
      "metadata": {
        "id": "SbgHWoJMRMpb"
      },
      "source": [
        "\n",
        "# no change needed"
      ],
      "execution_count": null,
      "outputs": []
    },
    {
      "cell_type": "markdown",
      "metadata": {
        "id": "6F8CpKM-HY0-"
      },
      "source": [
        "## 1.5. NA Check"
      ]
    },
    {
      "cell_type": "code",
      "metadata": {
        "colab": {
          "base_uri": "https://localhost:8080/"
        },
        "id": "wQUHLr9eHY3t",
        "outputId": "d4e51361-e9ae-42b6-8b1f-7960d13aa6ac"
      },
      "source": [
        "df1.isna().sum()"
      ],
      "execution_count": null,
      "outputs": [
        {
          "output_type": "execute_result",
          "data": {
            "text/plain": [
              "Index                   0\n",
              "id                      0\n",
              "gender                  0\n",
              "age                     0\n",
              "region_code             0\n",
              "policy_sales_channel    0\n",
              "driving_license         0\n",
              "vehicle_age             0\n",
              "vehicle_damage          0\n",
              "previously_insured      0\n",
              "annual_premium          0\n",
              "vintage                 0\n",
              "response                0\n",
              "dtype: int64"
            ]
          },
          "metadata": {
            "tags": []
          },
          "execution_count": 28
        }
      ]
    },
    {
      "cell_type": "markdown",
      "metadata": {
        "id": "TOhtFigqQyQY"
      },
      "source": [
        "## 1.6. Fillout NA"
      ]
    },
    {
      "cell_type": "markdown",
      "metadata": {
        "id": "OufUw2cqHY6W"
      },
      "source": [
        "## 1.7. Check Balanced Data"
      ]
    },
    {
      "cell_type": "code",
      "metadata": {
        "colab": {
          "base_uri": "https://localhost:8080/"
        },
        "id": "5cCi8OBWHY9G",
        "outputId": "d21494cf-1d75-445c-f7f3-1aae9888ad09"
      },
      "source": [
        "df1['response'].value_counts( normalize = True)"
      ],
      "execution_count": null,
      "outputs": [
        {
          "output_type": "execute_result",
          "data": {
            "text/plain": [
              "0    0.877437\n",
              "1    0.122563\n",
              "Name: response, dtype: float64"
            ]
          },
          "metadata": {
            "tags": []
          },
          "execution_count": 29
        }
      ]
    },
    {
      "cell_type": "markdown",
      "metadata": {
        "id": "pC2JPlJmRSj2"
      },
      "source": [
        "## 1.8. Desciptive Statistical"
      ]
    },
    {
      "cell_type": "code",
      "metadata": {
        "id": "eOUwUsNlRm7c"
      },
      "source": [
        "num_attributes = df1.select_dtypes( include = ['int64', 'float64'] )\n",
        "cat_attributes = df1.select_dtypes( exclude = ['int64', 'float64'] )"
      ],
      "execution_count": null,
      "outputs": []
    },
    {
      "cell_type": "markdown",
      "metadata": {
        "id": "FKcRsH6rRSho"
      },
      "source": [
        "### 1.8.1 Numerical Attributes"
      ]
    },
    {
      "cell_type": "code",
      "metadata": {
        "colab": {
          "base_uri": "https://localhost:8080/"
        },
        "id": "8Dx8yXApRSfA",
        "outputId": "f6323cda-8a67-48fd-b0a0-984afaa887b8"
      },
      "source": [
        "describe = num_attributes.describe().T\n",
        "\n",
        "\n",
        "describe['range'] = num_attributes.max() - num_attributes.min().tolist()\n",
        "describe['variation_coefficicient'] = (num_attributes.std() / num_attributes.mean() ). tolist()\n",
        "describe['skew'] = num_attributes.skew().tolist()\n",
        "describe['kurtosis'] = num_attributes.kurtosis().tolist()\n",
        "\n",
        "describe\n"
      ],
      "execution_count": null,
      "outputs": [
        {
          "output_type": "execute_result",
          "data": {
            "text/html": [
              "<div>\n",
              "<style scoped>\n",
              "    .dataframe tbody tr th:only-of-type {\n",
              "        vertical-align: middle;\n",
              "    }\n",
              "\n",
              "    .dataframe tbody tr th {\n",
              "        vertical-align: top;\n",
              "    }\n",
              "\n",
              "    .dataframe thead th {\n",
              "        text-align: right;\n",
              "    }\n",
              "</style>\n",
              "<table border=\"1\" class=\"dataframe\">\n",
              "  <thead>\n",
              "    <tr style=\"text-align: right;\">\n",
              "      <th></th>\n",
              "      <th>count</th>\n",
              "      <th>mean</th>\n",
              "      <th>std</th>\n",
              "      <th>min</th>\n",
              "      <th>25%</th>\n",
              "      <th>50%</th>\n",
              "      <th>75%</th>\n",
              "      <th>max</th>\n",
              "      <th>range</th>\n",
              "      <th>variation_coefficicient</th>\n",
              "      <th>skew</th>\n",
              "      <th>kurtosis</th>\n",
              "    </tr>\n",
              "  </thead>\n",
              "  <tbody>\n",
              "    <tr>\n",
              "      <th>Index</th>\n",
              "      <td>304887.0</td>\n",
              "      <td>190469.287867</td>\n",
              "      <td>110012.850032</td>\n",
              "      <td>0.0</td>\n",
              "      <td>95109.5</td>\n",
              "      <td>190493.0</td>\n",
              "      <td>285644.5</td>\n",
              "      <td>381108.0</td>\n",
              "      <td>381108.0</td>\n",
              "      <td>0.577588</td>\n",
              "      <td>0.001695</td>\n",
              "      <td>-1.199979</td>\n",
              "    </tr>\n",
              "    <tr>\n",
              "      <th>id</th>\n",
              "      <td>304887.0</td>\n",
              "      <td>190470.287867</td>\n",
              "      <td>110012.850032</td>\n",
              "      <td>1.0</td>\n",
              "      <td>95110.5</td>\n",
              "      <td>190494.0</td>\n",
              "      <td>285645.5</td>\n",
              "      <td>381109.0</td>\n",
              "      <td>381108.0</td>\n",
              "      <td>0.577585</td>\n",
              "      <td>0.001695</td>\n",
              "      <td>-1.199979</td>\n",
              "    </tr>\n",
              "    <tr>\n",
              "      <th>age</th>\n",
              "      <td>304887.0</td>\n",
              "      <td>38.816824</td>\n",
              "      <td>15.511210</td>\n",
              "      <td>20.0</td>\n",
              "      <td>25.0</td>\n",
              "      <td>36.0</td>\n",
              "      <td>49.0</td>\n",
              "      <td>85.0</td>\n",
              "      <td>65.0</td>\n",
              "      <td>0.399600</td>\n",
              "      <td>0.674576</td>\n",
              "      <td>-0.561449</td>\n",
              "    </tr>\n",
              "    <tr>\n",
              "      <th>region_code</th>\n",
              "      <td>304887.0</td>\n",
              "      <td>26.384057</td>\n",
              "      <td>13.241390</td>\n",
              "      <td>0.0</td>\n",
              "      <td>15.0</td>\n",
              "      <td>28.0</td>\n",
              "      <td>35.0</td>\n",
              "      <td>52.0</td>\n",
              "      <td>52.0</td>\n",
              "      <td>0.501871</td>\n",
              "      <td>-0.114434</td>\n",
              "      <td>-0.870994</td>\n",
              "    </tr>\n",
              "    <tr>\n",
              "      <th>policy_sales_channel</th>\n",
              "      <td>304887.0</td>\n",
              "      <td>112.039907</td>\n",
              "      <td>54.195320</td>\n",
              "      <td>1.0</td>\n",
              "      <td>29.0</td>\n",
              "      <td>132.0</td>\n",
              "      <td>152.0</td>\n",
              "      <td>163.0</td>\n",
              "      <td>162.0</td>\n",
              "      <td>0.483714</td>\n",
              "      <td>-0.900285</td>\n",
              "      <td>-0.969907</td>\n",
              "    </tr>\n",
              "    <tr>\n",
              "      <th>driving_license</th>\n",
              "      <td>304887.0</td>\n",
              "      <td>0.997858</td>\n",
              "      <td>0.046230</td>\n",
              "      <td>0.0</td>\n",
              "      <td>1.0</td>\n",
              "      <td>1.0</td>\n",
              "      <td>1.0</td>\n",
              "      <td>1.0</td>\n",
              "      <td>1.0</td>\n",
              "      <td>0.046329</td>\n",
              "      <td>-21.538540</td>\n",
              "      <td>461.911732</td>\n",
              "    </tr>\n",
              "    <tr>\n",
              "      <th>previously_insured</th>\n",
              "      <td>304887.0</td>\n",
              "      <td>0.458176</td>\n",
              "      <td>0.498249</td>\n",
              "      <td>0.0</td>\n",
              "      <td>0.0</td>\n",
              "      <td>0.0</td>\n",
              "      <td>1.0</td>\n",
              "      <td>1.0</td>\n",
              "      <td>1.0</td>\n",
              "      <td>1.087460</td>\n",
              "      <td>0.167884</td>\n",
              "      <td>-1.971828</td>\n",
              "    </tr>\n",
              "    <tr>\n",
              "      <th>annual_premium</th>\n",
              "      <td>304887.0</td>\n",
              "      <td>30565.491218</td>\n",
              "      <td>17249.584623</td>\n",
              "      <td>2630.0</td>\n",
              "      <td>24412.0</td>\n",
              "      <td>31660.0</td>\n",
              "      <td>39382.0</td>\n",
              "      <td>540165.0</td>\n",
              "      <td>537535.0</td>\n",
              "      <td>0.564348</td>\n",
              "      <td>1.878145</td>\n",
              "      <td>36.970947</td>\n",
              "    </tr>\n",
              "    <tr>\n",
              "      <th>vintage</th>\n",
              "      <td>304887.0</td>\n",
              "      <td>154.425348</td>\n",
              "      <td>83.686999</td>\n",
              "      <td>10.0</td>\n",
              "      <td>82.0</td>\n",
              "      <td>154.0</td>\n",
              "      <td>227.0</td>\n",
              "      <td>299.0</td>\n",
              "      <td>289.0</td>\n",
              "      <td>0.541925</td>\n",
              "      <td>0.001215</td>\n",
              "      <td>-1.200798</td>\n",
              "    </tr>\n",
              "    <tr>\n",
              "      <th>response</th>\n",
              "      <td>304887.0</td>\n",
              "      <td>0.122563</td>\n",
              "      <td>0.327936</td>\n",
              "      <td>0.0</td>\n",
              "      <td>0.0</td>\n",
              "      <td>0.0</td>\n",
              "      <td>0.0</td>\n",
              "      <td>1.0</td>\n",
              "      <td>1.0</td>\n",
              "      <td>2.675643</td>\n",
              "      <td>2.301907</td>\n",
              "      <td>3.298797</td>\n",
              "    </tr>\n",
              "  </tbody>\n",
              "</table>\n",
              "</div>"
            ],
            "text/plain": [
              "                         count           mean            std     min      25%       50%       75%       max     range  variation_coefficicient       skew    kurtosis\n",
              "Index                 304887.0  190469.287867  110012.850032     0.0  95109.5  190493.0  285644.5  381108.0  381108.0                 0.577588   0.001695   -1.199979\n",
              "id                    304887.0  190470.287867  110012.850032     1.0  95110.5  190494.0  285645.5  381109.0  381108.0                 0.577585   0.001695   -1.199979\n",
              "age                   304887.0      38.816824      15.511210    20.0     25.0      36.0      49.0      85.0      65.0                 0.399600   0.674576   -0.561449\n",
              "region_code           304887.0      26.384057      13.241390     0.0     15.0      28.0      35.0      52.0      52.0                 0.501871  -0.114434   -0.870994\n",
              "policy_sales_channel  304887.0     112.039907      54.195320     1.0     29.0     132.0     152.0     163.0     162.0                 0.483714  -0.900285   -0.969907\n",
              "driving_license       304887.0       0.997858       0.046230     0.0      1.0       1.0       1.0       1.0       1.0                 0.046329 -21.538540  461.911732\n",
              "previously_insured    304887.0       0.458176       0.498249     0.0      0.0       0.0       1.0       1.0       1.0                 1.087460   0.167884   -1.971828\n",
              "annual_premium        304887.0   30565.491218   17249.584623  2630.0  24412.0   31660.0   39382.0  540165.0  537535.0                 0.564348   1.878145   36.970947\n",
              "vintage               304887.0     154.425348      83.686999    10.0     82.0     154.0     227.0     299.0     289.0                 0.541925   0.001215   -1.200798\n",
              "response              304887.0       0.122563       0.327936     0.0      0.0       0.0       0.0       1.0       1.0                 2.675643   2.301907    3.298797"
            ]
          },
          "metadata": {
            "tags": []
          },
          "execution_count": 31
        }
      ]
    },
    {
      "cell_type": "markdown",
      "metadata": {
        "id": "eTkT2cOsSdGe"
      },
      "source": [
        "<font color = 'red'> refazer após usar todo o dataset\n",
        "\n",
        "*   The mean of the response variable is 0.12, which means the sells are not going good.\n",
        "*   The yongest person is 20 years old, and the oldest is 85.\n",
        "*   Only 45% had insurance\n"
      ]
    },
    {
      "cell_type": "code",
      "metadata": {
        "colab": {
          "base_uri": "https://localhost:8080/"
        },
        "id": "pUarCgW9YpQp",
        "outputId": "10dc30ec-e17a-4632-fc5c-ea1d6990e809"
      },
      "source": [
        "sns.boxplot(x = 'age',  data = df1)"
      ],
      "execution_count": null,
      "outputs": [
        {
          "output_type": "execute_result",
          "data": {
            "text/plain": [
              "<matplotlib.axes._subplots.AxesSubplot at 0x7f22861e6dd8>"
            ]
          },
          "metadata": {
            "tags": []
          },
          "execution_count": 32
        },
        {
          "output_type": "display_data",
          "data": {
            "image/png": "[encoded data removed]",
            "text/plain": [
              "<Figure size 1296x720 with 1 Axes>"
            ]
          },
          "metadata": {
            "tags": []
          }
        }
      ]
    },
    {
      "cell_type": "code",
      "metadata": {
        "colab": {
          "base_uri": "https://localhost:8080/"
        },
        "id": "yuKH6UYHY968",
        "outputId": "a3f99196-7fb7-45c5-949e-f07b604de153"
      },
      "source": [
        "sns.boxplot(x = 'annual_premium', data = df1)"
      ],
      "execution_count": null,
      "outputs": [
        {
          "output_type": "execute_result",
          "data": {
            "text/plain": [
              "<matplotlib.axes._subplots.AxesSubplot at 0x7f228a780eb8>"
            ]
          },
          "metadata": {
            "tags": []
          },
          "execution_count": 33
        },
        {
          "output_type": "display_data",
          "data": {
            "image/png": "[encoded data removed]",
            "text/plain": [
              "<Figure size 1296x720 with 1 Axes>"
            ]
          },
          "metadata": {
            "tags": []
          }
        }
      ]
    },
    {
      "cell_type": "code",
      "metadata": {
        "colab": {
          "base_uri": "https://localhost:8080/"
        },
        "id": "UuEJ3bYVYrjK",
        "outputId": "b9f3f1c8-9dea-4992-96b8-ea5f7aade952"
      },
      "source": [
        "sns.boxplot(x = 'vintage', data = df1)"
      ],
      "execution_count": null,
      "outputs": [
        {
          "output_type": "execute_result",
          "data": {
            "text/plain": [
              "<matplotlib.axes._subplots.AxesSubplot at 0x7f22881d2748>"
            ]
          },
          "metadata": {
            "tags": []
          },
          "execution_count": 34
        },
        {
          "output_type": "display_data",
          "data": {
            "image/png": "[encoded data removed]",
            "text/plain": [
              "<Figure size 1296x720 with 1 Axes>"
            ]
          },
          "metadata": {
            "tags": []
          }
        }
      ]
    },
    {
      "cell_type": "markdown",
      "metadata": {
        "id": "_LbzaxnVRSbQ"
      },
      "source": [
        "### 1.8.2 Categorical Attributes"
      ]
    },
    {
      "cell_type": "code",
      "metadata": {
        "colab": {
          "base_uri": "https://localhost:8080/"
        },
        "id": "ex5YU9OxVCes",
        "outputId": "29046611-a6b7-48c3-cf25-4d0c5c7f9964"
      },
      "source": [
        "cat_attributes.describe()"
      ],
      "execution_count": null,
      "outputs": [
        {
          "output_type": "execute_result",
          "data": {
            "text/html": [
              "<div>\n",
              "<style scoped>\n",
              "    .dataframe tbody tr th:only-of-type {\n",
              "        vertical-align: middle;\n",
              "    }\n",
              "\n",
              "    .dataframe tbody tr th {\n",
              "        vertical-align: top;\n",
              "    }\n",
              "\n",
              "    .dataframe thead th {\n",
              "        text-align: right;\n",
              "    }\n",
              "</style>\n",
              "<table border=\"1\" class=\"dataframe\">\n",
              "  <thead>\n",
              "    <tr style=\"text-align: right;\">\n",
              "      <th></th>\n",
              "      <th>gender</th>\n",
              "      <th>vehicle_age</th>\n",
              "      <th>vehicle_damage</th>\n",
              "    </tr>\n",
              "  </thead>\n",
              "  <tbody>\n",
              "    <tr>\n",
              "      <th>count</th>\n",
              "      <td>304887</td>\n",
              "      <td>304887</td>\n",
              "      <td>304887</td>\n",
              "    </tr>\n",
              "    <tr>\n",
              "      <th>unique</th>\n",
              "      <td>2</td>\n",
              "      <td>3</td>\n",
              "      <td>2</td>\n",
              "    </tr>\n",
              "    <tr>\n",
              "      <th>top</th>\n",
              "      <td>Male</td>\n",
              "      <td>1-2 Year</td>\n",
              "      <td>Yes</td>\n",
              "    </tr>\n",
              "    <tr>\n",
              "      <th>freq</th>\n",
              "      <td>165032</td>\n",
              "      <td>160231</td>\n",
              "      <td>154022</td>\n",
              "    </tr>\n",
              "  </tbody>\n",
              "</table>\n",
              "</div>"
            ],
            "text/plain": [
              "        gender vehicle_age vehicle_damage\n",
              "count   304887      304887         304887\n",
              "unique       2           3              2\n",
              "top       Male    1-2 Year            Yes\n",
              "freq    165032      160231         154022"
            ]
          },
          "metadata": {
            "tags": []
          },
          "execution_count": 35
        }
      ]
    },
    {
      "cell_type": "markdown",
      "metadata": {
        "id": "LR1KprZlZgAY"
      },
      "source": [
        "## 1.9 Data Description Summary "
      ]
    },
    {
      "cell_type": "code",
      "metadata": {
        "colab": {
          "base_uri": "https://localhost:8080/"
        },
        "id": "NlAz-75gZh3m",
        "outputId": "ce1b55d4-4805-40d6-a658-1444bc5f6672"
      },
      "source": [
        "num_attributes.columns"
      ],
      "execution_count": null,
      "outputs": [
        {
          "output_type": "execute_result",
          "data": {
            "text/plain": [
              "Index(['Index', 'id', 'age', 'region_code', 'policy_sales_channel',\n",
              "       'driving_license', 'previously_insured', 'annual_premium', 'vintage',\n",
              "       'response'],\n",
              "      dtype='object')"
            ]
          },
          "metadata": {
            "tags": []
          },
          "execution_count": 36
        }
      ]
    },
    {
      "cell_type": "code",
      "metadata": {
        "colab": {
          "base_uri": "https://localhost:8080/"
        },
        "id": "dNRdzSWzdHiK",
        "outputId": "c45b41ff-8a6b-48fa-b41e-d8f4c4680ef2"
      },
      "source": [
        "summary_desc = pd.DataFrame( {\r\n",
        "                              'Feature': ['age', 'region_code', 'policy_sales_channel', 'driving_license', 'previously_insured', 'annual_premium', 'vintage', 'response'],\r\n",
        "                              'Outliers':['No' ,   'No'       ,     'No'              ,     'No'         ,         'No'        ,       'yes'     ,    'No'  ,     'No'] \r\n",
        "                              },\r\n",
        "                            index = [1, 2, 3, 4, 5, 6, 7, 8] )\r\n",
        "\r\n",
        "summary_desc"
      ],
      "execution_count": null,
      "outputs": [
        {
          "output_type": "execute_result",
          "data": {
            "text/html": [
              "<div>\n",
              "<style scoped>\n",
              "    .dataframe tbody tr th:only-of-type {\n",
              "        vertical-align: middle;\n",
              "    }\n",
              "\n",
              "    .dataframe tbody tr th {\n",
              "        vertical-align: top;\n",
              "    }\n",
              "\n",
              "    .dataframe thead th {\n",
              "        text-align: right;\n",
              "    }\n",
              "</style>\n",
              "<table border=\"1\" class=\"dataframe\">\n",
              "  <thead>\n",
              "    <tr style=\"text-align: right;\">\n",
              "      <th></th>\n",
              "      <th>Feature</th>\n",
              "      <th>Outliers</th>\n",
              "    </tr>\n",
              "  </thead>\n",
              "  <tbody>\n",
              "    <tr>\n",
              "      <th>1</th>\n",
              "      <td>age</td>\n",
              "      <td>No</td>\n",
              "    </tr>\n",
              "    <tr>\n",
              "      <th>2</th>\n",
              "      <td>region_code</td>\n",
              "      <td>No</td>\n",
              "    </tr>\n",
              "    <tr>\n",
              "      <th>3</th>\n",
              "      <td>policy_sales_channel</td>\n",
              "      <td>No</td>\n",
              "    </tr>\n",
              "    <tr>\n",
              "      <th>4</th>\n",
              "      <td>driving_license</td>\n",
              "      <td>No</td>\n",
              "    </tr>\n",
              "    <tr>\n",
              "      <th>5</th>\n",
              "      <td>previously_insured</td>\n",
              "      <td>No</td>\n",
              "    </tr>\n",
              "    <tr>\n",
              "      <th>6</th>\n",
              "      <td>annual_premium</td>\n",
              "      <td>yes</td>\n",
              "    </tr>\n",
              "    <tr>\n",
              "      <th>7</th>\n",
              "      <td>vintage</td>\n",
              "      <td>No</td>\n",
              "    </tr>\n",
              "    <tr>\n",
              "      <th>8</th>\n",
              "      <td>response</td>\n",
              "      <td>No</td>\n",
              "    </tr>\n",
              "  </tbody>\n",
              "</table>\n",
              "</div>"
            ],
            "text/plain": [
              "                Feature Outliers\n",
              "1                   age       No\n",
              "2           region_code       No\n",
              "3  policy_sales_channel       No\n",
              "4       driving_license       No\n",
              "5    previously_insured       No\n",
              "6        annual_premium      yes\n",
              "7               vintage       No\n",
              "8              response       No"
            ]
          },
          "metadata": {
            "tags": []
          },
          "execution_count": 37
        }
      ]
    },
    {
      "cell_type": "markdown",
      "metadata": {
        "id": "Io_L-mLLdHn7"
      },
      "source": [
        "## 1.10. Save"
      ]
    },
    {
      "cell_type": "code",
      "metadata": {
        "id": "9_6trO53eSXY"
      },
      "source": [
        "df1.to_csv(path+'/Data/df2.csv', index_label = False)"
      ],
      "execution_count": null,
      "outputs": []
    },
    {
      "cell_type": "markdown",
      "metadata": {
        "id": "oZc_h_JhQQmv"
      },
      "source": [
        "# 2.0. Feature Engineering"
      ]
    },
    {
      "cell_type": "code",
      "metadata": {
        "id": "psINyoDRQQLe"
      },
      "source": [
        "df2 = pd.read_csv(path+'/Data/df2.csv')"
      ],
      "execution_count": null,
      "outputs": []
    },
    {
      "cell_type": "code",
      "metadata": {
        "colab": {
          "base_uri": "https://localhost:8080/"
        },
        "id": "yrCRZKMiBQO1",
        "outputId": "83519a8e-7acd-4d67-e7e9-5629c9c7871a"
      },
      "source": [
        "df2.columns"
      ],
      "execution_count": null,
      "outputs": [
        {
          "output_type": "execute_result",
          "data": {
            "text/plain": [
              "Index(['Index', 'id', 'gender', 'age', 'region_code', 'policy_sales_channel',\n",
              "       'driving_license', 'vehicle_age', 'vehicle_damage',\n",
              "       'previously_insured', 'annual_premium', 'vintage', 'response'],\n",
              "      dtype='object')"
            ]
          },
          "metadata": {
            "tags": []
          },
          "execution_count": 57
        }
      ]
    },
    {
      "cell_type": "markdown",
      "metadata": {
        "id": "sI9OfanWbyUO"
      },
      "source": [
        "## 2.1. Mind Map Hypothesis"
      ]
    },
    {
      "cell_type": "code",
      "metadata": {
        "colab": {
          "base_uri": "https://localhost:8080/",
          "height": 554
        },
        "id": "4NJ4IYq9b20l",
        "outputId": "dd29d6eb-64c5-4c46-9b20-5d3e3f8efa9c"
      },
      "source": [
        "Image('/content/drive/MyDrive/DataScience/Projects/Health Insurance/Image/MindMap.png')"
      ],
      "execution_count": null,
      "outputs": [
        {
          "output_type": "execute_result",
          "data": {
            "image/png": "[encoded data removed]",
            "text/plain": [
              "<IPython.core.display.Image object>"
            ]
          },
          "metadata": {
            "tags": []
          },
          "execution_count": 41
        }
      ]
    },
    {
      "cell_type": "markdown",
      "metadata": {
        "id": "UqaCRNrDb2yv"
      },
      "source": [
        "## 2.2. Hypothesis Creation"
      ]
    },
    {
      "cell_type": "markdown",
      "metadata": {
        "id": "24UP5osFsIJh"
      },
      "source": [
        "### 2.2.1 Client"
      ]
    },
    {
      "cell_type": "markdown",
      "metadata": {
        "id": "qMNfulh9vfC1"
      },
      "source": [
        "**1.** clients older then 30 have a bigger chance of get a health insurance\n",
        "\n",
        "**2.** clients younger then 30 have a bigger chance get a healh insurance\n",
        "\n",
        "**3.** Clients wich 'anual premium' is lower have a bigger chance of get a heath insurance\n",
        "\n",
        "**4.** Clients wich 'anual premium' is higher have a bigger chance of get a heath insurance\n",
        "\n",
        "**5.** Long date clients have a bigger chance of get a health insurance\n",
        "\n",
        "**6.** clients with no driving license have a lower chance of get a health insurance\n",
        "\n",
        "**7.** Clients with driving license have a bigger chance of get a health insurance\n",
        "\n",
        "**8.** Mens have a bigger chance of get a health insurance\n",
        "\n",
        "**9.** Womens have a bigger chance of get a health insurance\n",
        "\n"
      ]
    },
    {
      "cell_type": "markdown",
      "metadata": {
        "id": "Yg1Gg1RasWxI"
      },
      "source": [
        "### 2.2.2 Vehicle"
      ]
    },
    {
      "cell_type": "markdown",
      "metadata": {
        "id": "476szstNseWC"
      },
      "source": [
        "**10.** Clients with new cars have more chance of get the heath insurance\n",
        "\n",
        "**11.** Clients with old cars have more chance of get the heath insurance\n",
        "\n",
        "**12.** Clients with previously vehicle damage have a higher chance of get a health insurance\n",
        "\n",
        "**13.** Clients with no previously vehicle damage have a higher chance of get a health insurance"
      ]
    },
    {
      "cell_type": "markdown",
      "metadata": {
        "id": "heGuFufub2tQ"
      },
      "source": [
        "## 2.3. Final Hypothesis"
      ]
    },
    {
      "cell_type": "markdown",
      "metadata": {
        "id": "n-lIfKS-b2Zg"
      },
      "source": [
        "**1.** clients older then 30 have a bigger chance of get a health insurance\n",
        "\n",
        "**2.** clients younger then 30 have a bigger chance get a healh insurance\n",
        "\n",
        "**3.** Clients wich 'anual premium' is lower have a bigger chance of get a heath insurance\n",
        "\n",
        "**4.** Clients wich 'anual premium' is higher have a bigger chance of get a heath insurance\n",
        "\n",
        "**5.** Long date clients have a bigger chance of get a health insurance\n",
        "\n",
        "**6.** clients with no driving license have a lower chance of get a health insurance\n",
        "\n",
        "**7.** Clients with driving license have a bigger chance of get a health insurance\n",
        "\n",
        "**8.** Mens have a bigger chance of get a health insurance\n",
        "\n",
        "**9.** Womens have a bigger chance of get a health insurance\n",
        "\n",
        "**10.** Clients with new cars have more chance of get the heath insurance\n",
        "\n",
        "**11.** Clients with old cars have more chance of get the heath insurance\n",
        "\n",
        "**12.** Clients with previously vehicle damage have a higher chance of get a health insurance\n",
        "\n",
        "**13.** Clients with no previously vehicle damage have a higher chance of get a health insurance"
      ]
    },
    {
      "cell_type": "markdown",
      "metadata": {
        "id": "W28uAZBLb_rQ"
      },
      "source": [
        "## 2.4. Feature Engineering"
      ]
    },
    {
      "cell_type": "code",
      "metadata": {
        "colab": {
          "base_uri": "https://localhost:8080/",
          "height": 197
        },
        "id": "Pt5deJEYqHnQ",
        "outputId": "152d6f9a-5202-4f77-d12f-679676c48ebd"
      },
      "source": [
        "df2.head()"
      ],
      "execution_count": null,
      "outputs": [
        {
          "output_type": "execute_result",
          "data": {
            "text/html": [
              "<div>\n",
              "<style scoped>\n",
              "    .dataframe tbody tr th:only-of-type {\n",
              "        vertical-align: middle;\n",
              "    }\n",
              "\n",
              "    .dataframe tbody tr th {\n",
              "        vertical-align: top;\n",
              "    }\n",
              "\n",
              "    .dataframe thead th {\n",
              "        text-align: right;\n",
              "    }\n",
              "</style>\n",
              "<table border=\"1\" class=\"dataframe\">\n",
              "  <thead>\n",
              "    <tr style=\"text-align: right;\">\n",
              "      <th></th>\n",
              "      <th>Index</th>\n",
              "      <th>id</th>\n",
              "      <th>gender</th>\n",
              "      <th>age</th>\n",
              "      <th>region_code</th>\n",
              "      <th>policy_sales_channel</th>\n",
              "      <th>driving_license</th>\n",
              "      <th>vehicle_age</th>\n",
              "      <th>vehicle_damage</th>\n",
              "      <th>previously_insured</th>\n",
              "      <th>annual_premium</th>\n",
              "      <th>vintage</th>\n",
              "      <th>response</th>\n",
              "    </tr>\n",
              "  </thead>\n",
              "  <tbody>\n",
              "    <tr>\n",
              "      <th>0</th>\n",
              "      <td>105515</td>\n",
              "      <td>105516</td>\n",
              "      <td>Male</td>\n",
              "      <td>44</td>\n",
              "      <td>36.0</td>\n",
              "      <td>124.0</td>\n",
              "      <td>1</td>\n",
              "      <td>1-2 Year</td>\n",
              "      <td>Yes</td>\n",
              "      <td>0</td>\n",
              "      <td>2630.0</td>\n",
              "      <td>90</td>\n",
              "      <td>0</td>\n",
              "    </tr>\n",
              "    <tr>\n",
              "      <th>1</th>\n",
              "      <td>157357</td>\n",
              "      <td>157358</td>\n",
              "      <td>Female</td>\n",
              "      <td>59</td>\n",
              "      <td>28.0</td>\n",
              "      <td>61.0</td>\n",
              "      <td>1</td>\n",
              "      <td>1-2 Year</td>\n",
              "      <td>Yes</td>\n",
              "      <td>0</td>\n",
              "      <td>54777.0</td>\n",
              "      <td>84</td>\n",
              "      <td>0</td>\n",
              "    </tr>\n",
              "    <tr>\n",
              "      <th>2</th>\n",
              "      <td>162327</td>\n",
              "      <td>162328</td>\n",
              "      <td>Female</td>\n",
              "      <td>44</td>\n",
              "      <td>12.0</td>\n",
              "      <td>26.0</td>\n",
              "      <td>1</td>\n",
              "      <td>1-2 Year</td>\n",
              "      <td>No</td>\n",
              "      <td>1</td>\n",
              "      <td>43569.0</td>\n",
              "      <td>207</td>\n",
              "      <td>0</td>\n",
              "    </tr>\n",
              "    <tr>\n",
              "      <th>3</th>\n",
              "      <td>143266</td>\n",
              "      <td>143267</td>\n",
              "      <td>Male</td>\n",
              "      <td>36</td>\n",
              "      <td>36.0</td>\n",
              "      <td>157.0</td>\n",
              "      <td>1</td>\n",
              "      <td>1-2 Year</td>\n",
              "      <td>Yes</td>\n",
              "      <td>0</td>\n",
              "      <td>2630.0</td>\n",
              "      <td>275</td>\n",
              "      <td>1</td>\n",
              "    </tr>\n",
              "    <tr>\n",
              "      <th>4</th>\n",
              "      <td>297026</td>\n",
              "      <td>297027</td>\n",
              "      <td>Male</td>\n",
              "      <td>55</td>\n",
              "      <td>37.0</td>\n",
              "      <td>128.0</td>\n",
              "      <td>1</td>\n",
              "      <td>1-2 Year</td>\n",
              "      <td>Yes</td>\n",
              "      <td>0</td>\n",
              "      <td>32199.0</td>\n",
              "      <td>264</td>\n",
              "      <td>0</td>\n",
              "    </tr>\n",
              "  </tbody>\n",
              "</table>\n",
              "</div>"
            ],
            "text/plain": [
              "    Index      id  gender  age  region_code  policy_sales_channel  driving_license vehicle_age vehicle_damage  previously_insured  annual_premium  vintage  response\n",
              "0  105515  105516    Male   44         36.0                 124.0                1    1-2 Year            Yes                   0          2630.0       90         0\n",
              "1  157357  157358  Female   59         28.0                  61.0                1    1-2 Year            Yes                   0         54777.0       84         0\n",
              "2  162327  162328  Female   44         12.0                  26.0                1    1-2 Year             No                   1         43569.0      207         0\n",
              "3  143266  143267    Male   36         36.0                 157.0                1    1-2 Year            Yes                   0          2630.0      275         1\n",
              "4  297026  297027    Male   55         37.0                 128.0                1    1-2 Year            Yes                   0         32199.0      264         0"
            ]
          },
          "metadata": {
            "tags": []
          },
          "execution_count": 58
        }
      ]
    },
    {
      "cell_type": "code",
      "metadata": {
        "id": "tIO62TPscGsY",
        "colab": {
          "base_uri": "https://localhost:8080/",
          "height": 197
        },
        "outputId": "0d328772-4d9e-4714-ef60-04ca86f3fd93"
      },
      "source": [
        "df2['driving_license'].replace( 0, 'no', inplace = True)\n",
        "df2['driving_license'].replace( 1, 'yes', inplace = True)\n",
        "\n",
        "df2['previously_insured'].replace( 0, 'no', inplace = True)\n",
        "df2['previously_insured'].replace( 1, 'yes', inplace = True)\n",
        "\n",
        "df2['response'].replace( 0, 'no', inplace = True)\n",
        "df2['response'].replace( 1, 'yes', inplace = True)\n",
        "\n",
        "df2.head()"
      ],
      "execution_count": null,
      "outputs": [
        {
          "output_type": "execute_result",
          "data": {
            "text/html": [
              "<div>\n",
              "<style scoped>\n",
              "    .dataframe tbody tr th:only-of-type {\n",
              "        vertical-align: middle;\n",
              "    }\n",
              "\n",
              "    .dataframe tbody tr th {\n",
              "        vertical-align: top;\n",
              "    }\n",
              "\n",
              "    .dataframe thead th {\n",
              "        text-align: right;\n",
              "    }\n",
              "</style>\n",
              "<table border=\"1\" class=\"dataframe\">\n",
              "  <thead>\n",
              "    <tr style=\"text-align: right;\">\n",
              "      <th></th>\n",
              "      <th>Index</th>\n",
              "      <th>id</th>\n",
              "      <th>gender</th>\n",
              "      <th>age</th>\n",
              "      <th>region_code</th>\n",
              "      <th>policy_sales_channel</th>\n",
              "      <th>driving_license</th>\n",
              "      <th>vehicle_age</th>\n",
              "      <th>vehicle_damage</th>\n",
              "      <th>previously_insured</th>\n",
              "      <th>annual_premium</th>\n",
              "      <th>vintage</th>\n",
              "      <th>response</th>\n",
              "    </tr>\n",
              "  </thead>\n",
              "  <tbody>\n",
              "    <tr>\n",
              "      <th>0</th>\n",
              "      <td>105515</td>\n",
              "      <td>105516</td>\n",
              "      <td>Male</td>\n",
              "      <td>44</td>\n",
              "      <td>36.0</td>\n",
              "      <td>124.0</td>\n",
              "      <td>yes</td>\n",
              "      <td>1-2 Year</td>\n",
              "      <td>Yes</td>\n",
              "      <td>no</td>\n",
              "      <td>2630.0</td>\n",
              "      <td>90</td>\n",
              "      <td>no</td>\n",
              "    </tr>\n",
              "    <tr>\n",
              "      <th>1</th>\n",
              "      <td>157357</td>\n",
              "      <td>157358</td>\n",
              "      <td>Female</td>\n",
              "      <td>59</td>\n",
              "      <td>28.0</td>\n",
              "      <td>61.0</td>\n",
              "      <td>yes</td>\n",
              "      <td>1-2 Year</td>\n",
              "      <td>Yes</td>\n",
              "      <td>no</td>\n",
              "      <td>54777.0</td>\n",
              "      <td>84</td>\n",
              "      <td>no</td>\n",
              "    </tr>\n",
              "    <tr>\n",
              "      <th>2</th>\n",
              "      <td>162327</td>\n",
              "      <td>162328</td>\n",
              "      <td>Female</td>\n",
              "      <td>44</td>\n",
              "      <td>12.0</td>\n",
              "      <td>26.0</td>\n",
              "      <td>yes</td>\n",
              "      <td>1-2 Year</td>\n",
              "      <td>No</td>\n",
              "      <td>yes</td>\n",
              "      <td>43569.0</td>\n",
              "      <td>207</td>\n",
              "      <td>no</td>\n",
              "    </tr>\n",
              "    <tr>\n",
              "      <th>3</th>\n",
              "      <td>143266</td>\n",
              "      <td>143267</td>\n",
              "      <td>Male</td>\n",
              "      <td>36</td>\n",
              "      <td>36.0</td>\n",
              "      <td>157.0</td>\n",
              "      <td>yes</td>\n",
              "      <td>1-2 Year</td>\n",
              "      <td>Yes</td>\n",
              "      <td>no</td>\n",
              "      <td>2630.0</td>\n",
              "      <td>275</td>\n",
              "      <td>yes</td>\n",
              "    </tr>\n",
              "    <tr>\n",
              "      <th>4</th>\n",
              "      <td>297026</td>\n",
              "      <td>297027</td>\n",
              "      <td>Male</td>\n",
              "      <td>55</td>\n",
              "      <td>37.0</td>\n",
              "      <td>128.0</td>\n",
              "      <td>yes</td>\n",
              "      <td>1-2 Year</td>\n",
              "      <td>Yes</td>\n",
              "      <td>no</td>\n",
              "      <td>32199.0</td>\n",
              "      <td>264</td>\n",
              "      <td>no</td>\n",
              "    </tr>\n",
              "  </tbody>\n",
              "</table>\n",
              "</div>"
            ],
            "text/plain": [
              "    Index      id  gender  age  region_code  policy_sales_channel driving_license vehicle_age vehicle_damage previously_insured  annual_premium  vintage response\n",
              "0  105515  105516    Male   44         36.0                 124.0             yes    1-2 Year            Yes                 no          2630.0       90       no\n",
              "1  157357  157358  Female   59         28.0                  61.0             yes    1-2 Year            Yes                 no         54777.0       84       no\n",
              "2  162327  162328  Female   44         12.0                  26.0             yes    1-2 Year             No                yes         43569.0      207       no\n",
              "3  143266  143267    Male   36         36.0                 157.0             yes    1-2 Year            Yes                 no          2630.0      275      yes\n",
              "4  297026  297027    Male   55         37.0                 128.0             yes    1-2 Year            Yes                 no         32199.0      264       no"
            ]
          },
          "metadata": {
            "tags": []
          },
          "execution_count": 59
        }
      ]
    },
    {
      "cell_type": "markdown",
      "metadata": {
        "id": "mXd6ySyasQIC"
      },
      "source": [
        "## 2.5 Save"
      ]
    },
    {
      "cell_type": "code",
      "metadata": {
        "id": "ArGrcBr7sP8E"
      },
      "source": [
        "df2.to_csv(path+'/Data/df3.csv', index_label = False)"
      ],
      "execution_count": null,
      "outputs": []
    },
    {
      "cell_type": "markdown",
      "metadata": {
        "id": "MJXFQVz6HY_9"
      },
      "source": [
        "# 3.0 Data Filtering"
      ]
    },
    {
      "cell_type": "code",
      "metadata": {
        "id": "l1eWZgJBHZC9",
        "colab": {
          "base_uri": "https://localhost:8080/",
          "height": 77
        },
        "outputId": "661bf025-1924-46bb-ef3c-85ea852f56a6"
      },
      "source": [
        "df3 = pd.read_csv(path+'/Data/df3.csv')\r\n",
        "df3.head(1)"
      ],
      "execution_count": null,
      "outputs": [
        {
          "output_type": "execute_result",
          "data": {
            "text/html": [
              "<div>\n",
              "<style scoped>\n",
              "    .dataframe tbody tr th:only-of-type {\n",
              "        vertical-align: middle;\n",
              "    }\n",
              "\n",
              "    .dataframe tbody tr th {\n",
              "        vertical-align: top;\n",
              "    }\n",
              "\n",
              "    .dataframe thead th {\n",
              "        text-align: right;\n",
              "    }\n",
              "</style>\n",
              "<table border=\"1\" class=\"dataframe\">\n",
              "  <thead>\n",
              "    <tr style=\"text-align: right;\">\n",
              "      <th></th>\n",
              "      <th>Index</th>\n",
              "      <th>id</th>\n",
              "      <th>gender</th>\n",
              "      <th>age</th>\n",
              "      <th>region_code</th>\n",
              "      <th>policy_sales_channel</th>\n",
              "      <th>driving_license</th>\n",
              "      <th>vehicle_age</th>\n",
              "      <th>vehicle_damage</th>\n",
              "      <th>previously_insured</th>\n",
              "      <th>annual_premium</th>\n",
              "      <th>vintage</th>\n",
              "      <th>response</th>\n",
              "    </tr>\n",
              "  </thead>\n",
              "  <tbody>\n",
              "    <tr>\n",
              "      <th>0</th>\n",
              "      <td>105515</td>\n",
              "      <td>105516</td>\n",
              "      <td>Male</td>\n",
              "      <td>44</td>\n",
              "      <td>36.0</td>\n",
              "      <td>124.0</td>\n",
              "      <td>yes</td>\n",
              "      <td>1-2 Year</td>\n",
              "      <td>Yes</td>\n",
              "      <td>no</td>\n",
              "      <td>2630.0</td>\n",
              "      <td>90</td>\n",
              "      <td>no</td>\n",
              "    </tr>\n",
              "  </tbody>\n",
              "</table>\n",
              "</div>"
            ],
            "text/plain": [
              "    Index      id gender  age  region_code  policy_sales_channel driving_license vehicle_age vehicle_damage previously_insured  annual_premium  vintage response\n",
              "0  105515  105516   Male   44         36.0                 124.0             yes    1-2 Year            Yes                 no          2630.0       90       no"
            ]
          },
          "metadata": {
            "tags": []
          },
          "execution_count": 61
        }
      ]
    },
    {
      "cell_type": "markdown",
      "metadata": {
        "id": "xpaIwR_oHZFu"
      },
      "source": [
        "## 3.1. Filtering Rows"
      ]
    },
    {
      "cell_type": "markdown",
      "metadata": {
        "id": "v3bs-MlrHZLP"
      },
      "source": [
        "## 3.2. Columns Selection"
      ]
    },
    {
      "cell_type": "code",
      "metadata": {
        "id": "0TxvC9ihHZN2",
        "colab": {
          "base_uri": "https://localhost:8080/",
          "height": 197
        },
        "outputId": "b14e9fd4-9080-4145-8547-ef14f643a1a4"
      },
      "source": [
        "df3.drop(['Index', 'id'], axis = 1, inplace = True)\r\n",
        "df3.head()"
      ],
      "execution_count": null,
      "outputs": [
        {
          "output_type": "execute_result",
          "data": {
            "text/html": [
              "<div>\n",
              "<style scoped>\n",
              "    .dataframe tbody tr th:only-of-type {\n",
              "        vertical-align: middle;\n",
              "    }\n",
              "\n",
              "    .dataframe tbody tr th {\n",
              "        vertical-align: top;\n",
              "    }\n",
              "\n",
              "    .dataframe thead th {\n",
              "        text-align: right;\n",
              "    }\n",
              "</style>\n",
              "<table border=\"1\" class=\"dataframe\">\n",
              "  <thead>\n",
              "    <tr style=\"text-align: right;\">\n",
              "      <th></th>\n",
              "      <th>gender</th>\n",
              "      <th>age</th>\n",
              "      <th>region_code</th>\n",
              "      <th>policy_sales_channel</th>\n",
              "      <th>driving_license</th>\n",
              "      <th>vehicle_age</th>\n",
              "      <th>vehicle_damage</th>\n",
              "      <th>previously_insured</th>\n",
              "      <th>annual_premium</th>\n",
              "      <th>vintage</th>\n",
              "      <th>response</th>\n",
              "    </tr>\n",
              "  </thead>\n",
              "  <tbody>\n",
              "    <tr>\n",
              "      <th>0</th>\n",
              "      <td>Male</td>\n",
              "      <td>44</td>\n",
              "      <td>36.0</td>\n",
              "      <td>124.0</td>\n",
              "      <td>yes</td>\n",
              "      <td>1-2 Year</td>\n",
              "      <td>Yes</td>\n",
              "      <td>no</td>\n",
              "      <td>2630.0</td>\n",
              "      <td>90</td>\n",
              "      <td>no</td>\n",
              "    </tr>\n",
              "    <tr>\n",
              "      <th>1</th>\n",
              "      <td>Female</td>\n",
              "      <td>59</td>\n",
              "      <td>28.0</td>\n",
              "      <td>61.0</td>\n",
              "      <td>yes</td>\n",
              "      <td>1-2 Year</td>\n",
              "      <td>Yes</td>\n",
              "      <td>no</td>\n",
              "      <td>54777.0</td>\n",
              "      <td>84</td>\n",
              "      <td>no</td>\n",
              "    </tr>\n",
              "    <tr>\n",
              "      <th>2</th>\n",
              "      <td>Female</td>\n",
              "      <td>44</td>\n",
              "      <td>12.0</td>\n",
              "      <td>26.0</td>\n",
              "      <td>yes</td>\n",
              "      <td>1-2 Year</td>\n",
              "      <td>No</td>\n",
              "      <td>yes</td>\n",
              "      <td>43569.0</td>\n",
              "      <td>207</td>\n",
              "      <td>no</td>\n",
              "    </tr>\n",
              "    <tr>\n",
              "      <th>3</th>\n",
              "      <td>Male</td>\n",
              "      <td>36</td>\n",
              "      <td>36.0</td>\n",
              "      <td>157.0</td>\n",
              "      <td>yes</td>\n",
              "      <td>1-2 Year</td>\n",
              "      <td>Yes</td>\n",
              "      <td>no</td>\n",
              "      <td>2630.0</td>\n",
              "      <td>275</td>\n",
              "      <td>yes</td>\n",
              "    </tr>\n",
              "    <tr>\n",
              "      <th>4</th>\n",
              "      <td>Male</td>\n",
              "      <td>55</td>\n",
              "      <td>37.0</td>\n",
              "      <td>128.0</td>\n",
              "      <td>yes</td>\n",
              "      <td>1-2 Year</td>\n",
              "      <td>Yes</td>\n",
              "      <td>no</td>\n",
              "      <td>32199.0</td>\n",
              "      <td>264</td>\n",
              "      <td>no</td>\n",
              "    </tr>\n",
              "  </tbody>\n",
              "</table>\n",
              "</div>"
            ],
            "text/plain": [
              "   gender  age  region_code  policy_sales_channel driving_license vehicle_age vehicle_damage previously_insured  annual_premium  vintage response\n",
              "0    Male   44         36.0                 124.0             yes    1-2 Year            Yes                 no          2630.0       90       no\n",
              "1  Female   59         28.0                  61.0             yes    1-2 Year            Yes                 no         54777.0       84       no\n",
              "2  Female   44         12.0                  26.0             yes    1-2 Year             No                yes         43569.0      207       no\n",
              "3    Male   36         36.0                 157.0             yes    1-2 Year            Yes                 no          2630.0      275      yes\n",
              "4    Male   55         37.0                 128.0             yes    1-2 Year            Yes                 no         32199.0      264       no"
            ]
          },
          "metadata": {
            "tags": []
          },
          "execution_count": 62
        }
      ]
    },
    {
      "cell_type": "markdown",
      "metadata": {
        "id": "achpgHODtVJG"
      },
      "source": [
        "## 3.2. Save"
      ]
    },
    {
      "cell_type": "code",
      "metadata": {
        "id": "_e5RtOrQtV8j"
      },
      "source": [
        "df3.to_csv(path+'/Data/df4.csv',index_label= False)"
      ],
      "execution_count": null,
      "outputs": []
    },
    {
      "cell_type": "markdown",
      "metadata": {
        "id": "4M4Zs5qBQE3J"
      },
      "source": [
        "# 4.0. Exploratory Data Analysis"
      ]
    },
    {
      "cell_type": "code",
      "metadata": {
        "id": "G9_GXY5rQKJg",
        "colab": {
          "base_uri": "https://localhost:8080/",
          "height": 77
        },
        "outputId": "5fc700a6-9ecb-4745-badc-0dc2e9b56550"
      },
      "source": [
        "df4 = pd.read_csv(path+'/Data/df4.csv')\r\n",
        "df4.sample(1)"
      ],
      "execution_count": null,
      "outputs": [
        {
          "output_type": "execute_result",
          "data": {
            "text/html": [
              "<div>\n",
              "<style scoped>\n",
              "    .dataframe tbody tr th:only-of-type {\n",
              "        vertical-align: middle;\n",
              "    }\n",
              "\n",
              "    .dataframe tbody tr th {\n",
              "        vertical-align: top;\n",
              "    }\n",
              "\n",
              "    .dataframe thead th {\n",
              "        text-align: right;\n",
              "    }\n",
              "</style>\n",
              "<table border=\"1\" class=\"dataframe\">\n",
              "  <thead>\n",
              "    <tr style=\"text-align: right;\">\n",
              "      <th></th>\n",
              "      <th>gender</th>\n",
              "      <th>age</th>\n",
              "      <th>region_code</th>\n",
              "      <th>policy_sales_channel</th>\n",
              "      <th>driving_license</th>\n",
              "      <th>vehicle_age</th>\n",
              "      <th>vehicle_damage</th>\n",
              "      <th>previously_insured</th>\n",
              "      <th>annual_premium</th>\n",
              "      <th>vintage</th>\n",
              "      <th>response</th>\n",
              "    </tr>\n",
              "  </thead>\n",
              "  <tbody>\n",
              "    <tr>\n",
              "      <th>80294</th>\n",
              "      <td>Male</td>\n",
              "      <td>43</td>\n",
              "      <td>10.0</td>\n",
              "      <td>156.0</td>\n",
              "      <td>yes</td>\n",
              "      <td>1-2 Year</td>\n",
              "      <td>Yes</td>\n",
              "      <td>no</td>\n",
              "      <td>2630.0</td>\n",
              "      <td>170</td>\n",
              "      <td>no</td>\n",
              "    </tr>\n",
              "  </tbody>\n",
              "</table>\n",
              "</div>"
            ],
            "text/plain": [
              "      gender  age  region_code  policy_sales_channel driving_license vehicle_age vehicle_damage previously_insured  annual_premium  vintage response\n",
              "80294   Male   43         10.0                 156.0             yes    1-2 Year            Yes                 no          2630.0      170       no"
            ]
          },
          "metadata": {
            "tags": []
          },
          "execution_count": 15
        }
      ]
    },
    {
      "cell_type": "markdown",
      "metadata": {
        "id": "3kv-kJ2U01nU"
      },
      "source": [
        "## 4.1. Univariate Analysis"
      ]
    },
    {
      "cell_type": "markdown",
      "metadata": {
        "id": "W7853aeq1Bnk"
      },
      "source": [
        "### 4.1.1 Response Variable"
      ]
    },
    {
      "cell_type": "code",
      "metadata": {
        "colab": {
          "base_uri": "https://localhost:8080/",
          "height": 611
        },
        "id": "TAaSVlLLvXpb",
        "outputId": "95e39077-2b90-4003-c71e-cea2ef2a939c"
      },
      "source": [
        "ax = sns.countplot( y = 'response', data = df4)\r\n",
        "\r\n",
        "total = df4['response'].size\r\n",
        "for p in ax.patches:\r\n",
        "  percentage = ' {:.2f}%'.format(100 * p.get_width() / total )\r\n",
        "  x = p.get_x() + p.get_width()\r\n",
        "  y = p.get_y() + p.get_height() / 2\r\n",
        "  ax.annotate( percentage, (x, y) )\r\n",
        "  plt.rcParams['figure.figsize'] = [18,10]\r\n"
      ],
      "execution_count": null,
      "outputs": [
        {
          "output_type": "display_data",
          "data": {
            "image/png": "[encoded data removed]",
            "text/plain": [
              "<Figure size 1296x720 with 1 Axes>"
            ]
          },
          "metadata": {
            "tags": []
          }
        }
      ]
    },
    {
      "cell_type": "markdown",
      "metadata": {
        "id": "berjztAi1FRU"
      },
      "source": [
        "### 4.1.2 Numerical Variable"
      ]
    },
    {
      "cell_type": "code",
      "metadata": {
        "id": "2Cz4stYm1FT-"
      },
      "source": [
        "num_attributes = df4.select_dtypes(exclude = 'object')"
      ],
      "execution_count": null,
      "outputs": []
    },
    {
      "cell_type": "code",
      "metadata": {
        "colab": {
          "base_uri": "https://localhost:8080/",
          "height": 456
        },
        "id": "isOBtWJ_yJhv",
        "outputId": "b12f18dc-0b36-4769-f96d-08ac823450e2"
      },
      "source": [
        "num_a_columns = num_attributes.columns.tolist()\n",
        "j = 1\n",
        "\n",
        "for column in num_a_columns:\n",
        "  plt.subplot(4, 3, j)\n",
        "  sns.distplot(num_attributes[column] );\n",
        "  j += 1\n",
        "  plt.rcParams['figure.figsize'] = [40,28]"
      ],
      "execution_count": null,
      "outputs": [
        {
          "output_type": "display_data",
          "data": {
            "image/png": "[encoded data removed]",
            "text/plain": [
              "<Figure size 1800x1080 with 5 Axes>"
            ]
          },
          "metadata": {
            "tags": []
          }
        }
      ]
    },
    {
      "cell_type": "markdown",
      "metadata": {
        "id": "HODTmQNp1FWu"
      },
      "source": [
        "### 4.1.3 Categorical Variables"
      ]
    },
    {
      "cell_type": "code",
      "metadata": {
        "id": "-jaF0AW51n_v",
        "colab": {
          "base_uri": "https://localhost:8080/",
          "height": 1000
        },
        "outputId": "716efbf1-e345-4152-ee74-16b73ebf9793"
      },
      "source": [
        "cat_attributes = df4.select_dtypes(include = 'object')\n",
        "cat_a_columns = cat_attributes.columns.tolist()\n",
        "\n",
        "j = 1\n",
        "\n",
        "for column in cat_a_columns:\n",
        "  plt.subplot(3, 2, j)\n",
        "  ax = sns.countplot(y=column, data=cat_attributes)\n",
        "  plt.rcParams['figure.figsize'] = [25,15]\n",
        "    \n",
        "  total = cat_attributes[column].size\n",
        "  for p in ax.patches:\n",
        "      percentage = ' {:.1f}%'.format(100 * p.get_width()/total)\n",
        "      x = p.get_x() + p.get_width() + 0.02\n",
        "      y = p.get_y() + p.get_height()/2\n",
        "      ax.annotate(percentage, (x, y))\n",
        "    \n",
        "  j += 1"
      ],
      "execution_count": null,
      "outputs": [
        {
          "output_type": "display_data",
          "data": {
            "image/png": "[encoded data removed]",
            "text/plain": [
              "<Figure size 2160x1440 with 6 Axes>"
            ]
          },
          "metadata": {
            "tags": []
          }
        }
      ]
    },
    {
      "cell_type": "markdown",
      "metadata": {
        "id": "vXHjWH5B05vr"
      },
      "source": [
        "## 4.2. Bivariate Analysis"
      ]
    },
    {
      "cell_type": "markdown",
      "metadata": {
        "id": "8c_UoFPVxfas"
      },
      "source": [
        "**1.** clients older then 30 have a bigger chance of get a health insurance\r\n",
        "\r\n"
      ]
    },
    {
      "cell_type": "code",
      "metadata": {
        "colab": {
          "base_uri": "https://localhost:8080/",
          "height": 77
        },
        "id": "TB8pYsa62iEQ",
        "outputId": "200f210a-6390-4f67-b881-4b8e9342bbbf"
      },
      "source": [
        "df4.sample()"
      ],
      "execution_count": null,
      "outputs": [
        {
          "output_type": "execute_result",
          "data": {
            "text/html": [
              "<div>\n",
              "<style scoped>\n",
              "    .dataframe tbody tr th:only-of-type {\n",
              "        vertical-align: middle;\n",
              "    }\n",
              "\n",
              "    .dataframe tbody tr th {\n",
              "        vertical-align: top;\n",
              "    }\n",
              "\n",
              "    .dataframe thead th {\n",
              "        text-align: right;\n",
              "    }\n",
              "</style>\n",
              "<table border=\"1\" class=\"dataframe\">\n",
              "  <thead>\n",
              "    <tr style=\"text-align: right;\">\n",
              "      <th></th>\n",
              "      <th>gender</th>\n",
              "      <th>age</th>\n",
              "      <th>region_code</th>\n",
              "      <th>policy_sales_channel</th>\n",
              "      <th>driving_license</th>\n",
              "      <th>vehicle_age</th>\n",
              "      <th>vehicle_damage</th>\n",
              "      <th>previously_insured</th>\n",
              "      <th>annual_premium</th>\n",
              "      <th>vintage</th>\n",
              "      <th>response</th>\n",
              "    </tr>\n",
              "  </thead>\n",
              "  <tbody>\n",
              "    <tr>\n",
              "      <th>108671</th>\n",
              "      <td>Female</td>\n",
              "      <td>20</td>\n",
              "      <td>30.0</td>\n",
              "      <td>160.0</td>\n",
              "      <td>yes</td>\n",
              "      <td>&lt; 1 Year</td>\n",
              "      <td>Yes</td>\n",
              "      <td>yes</td>\n",
              "      <td>22836.0</td>\n",
              "      <td>97</td>\n",
              "      <td>no</td>\n",
              "    </tr>\n",
              "  </tbody>\n",
              "</table>\n",
              "</div>"
            ],
            "text/plain": [
              "        gender  age  region_code  policy_sales_channel driving_license vehicle_age vehicle_damage previously_insured  annual_premium  vintage response\n",
              "108671  Female   20         30.0                 160.0             yes    < 1 Year            Yes                yes         22836.0       97       no"
            ]
          },
          "metadata": {
            "tags": []
          },
          "execution_count": 81
        }
      ]
    },
    {
      "cell_type": "code",
      "metadata": {
        "colab": {
          "base_uri": "https://localhost:8080/",
          "height": 364
        },
        "id": "H3vD6wYryDfm",
        "outputId": "378d4227-586e-4c8e-e7bf-e50a6a7ebda1"
      },
      "source": [
        "a = df4[df4['response'] == 'yes']\r\n",
        "sns.displot( x = 'age', data = a, hue = 'response')\r\n",
        "plt.rcParams['figure.figsize'] = [25,20]"
      ],
      "execution_count": null,
      "outputs": [
        {
          "output_type": "display_data",
          "data": {
            "image/png": "[encoded data removed]",
            "text/plain": [
              "<Figure size 423.55x360 with 1 Axes>"
            ]
          },
          "metadata": {
            "tags": []
          }
        }
      ]
    },
    {
      "cell_type": "markdown",
      "metadata": {
        "id": "37oOBBjpxfYk"
      },
      "source": [
        "**2.** clients younger then 30 have a bigger chance get a healh insurance"
      ]
    },
    {
      "cell_type": "code",
      "metadata": {
        "id": "xYbFk5O6yD3D"
      },
      "source": [
        ""
      ],
      "execution_count": null,
      "outputs": []
    },
    {
      "cell_type": "markdown",
      "metadata": {
        "id": "cuN56omIxfV6"
      },
      "source": [
        "**3.** Clients wich 'anual premium' is lower have a bigger chance of get a heath insurance"
      ]
    },
    {
      "cell_type": "code",
      "metadata": {
        "id": "v1MlgrofyELw",
        "colab": {
          "base_uri": "https://localhost:8080/",
          "height": 364
        },
        "outputId": "101dc2b8-c9a1-419a-a748-7babe3a7a756"
      },
      "source": [
        "a = df4[df4['response'] == 'yes']\r\n",
        "sns.displot( x = 'annual_premium', data = a, hue = 'response')\r\n",
        "plt.rcParams['figure.figsize'] = [25,20]"
      ],
      "execution_count": null,
      "outputs": [
        {
          "output_type": "display_data",
          "data": {
            "image/png": "[encoded data removed]",
            "text/plain": [
              "<Figure size 423.55x360 with 1 Axes>"
            ]
          },
          "metadata": {
            "tags": []
          }
        }
      ]
    },
    {
      "cell_type": "markdown",
      "metadata": {
        "id": "kT-_ICHLxfTi"
      },
      "source": [
        "**4.** Clients wich 'anual premium' is higher have a bigger chance of get a heath insurance\r\n",
        "\r\n"
      ]
    },
    {
      "cell_type": "code",
      "metadata": {
        "id": "47xeJd1dyEdB"
      },
      "source": [
        ""
      ],
      "execution_count": null,
      "outputs": []
    },
    {
      "cell_type": "markdown",
      "metadata": {
        "id": "-ARVbZ_lxfRC"
      },
      "source": [
        "**5.** Long date clients have a bigger chance of get a health insurance\r\n",
        "\r\n"
      ]
    },
    {
      "cell_type": "code",
      "metadata": {
        "id": "8-zaLcz_yEvR"
      },
      "source": [
        ""
      ],
      "execution_count": null,
      "outputs": []
    },
    {
      "cell_type": "markdown",
      "metadata": {
        "id": "uRirEuT_xfOp"
      },
      "source": [
        "**6.** clients with no driving license have a lower chance of get a health insurance\r\n",
        "\r\n"
      ]
    },
    {
      "cell_type": "code",
      "metadata": {
        "id": "cv922nQfyFBy"
      },
      "source": [
        ""
      ],
      "execution_count": null,
      "outputs": []
    },
    {
      "cell_type": "markdown",
      "metadata": {
        "id": "TiBiLp1yxfMK"
      },
      "source": [
        "**7.** Clients with driving license have a bigger chance of get a health insurance\r\n",
        "\r\n"
      ]
    },
    {
      "cell_type": "code",
      "metadata": {
        "id": "ObVZt4k5yFVr"
      },
      "source": [
        ""
      ],
      "execution_count": null,
      "outputs": []
    },
    {
      "cell_type": "markdown",
      "metadata": {
        "id": "JiBySC62xfJz"
      },
      "source": [
        "**8.** Mens have a bigger chance of get a health insurance\r\n",
        "\r\n"
      ]
    },
    {
      "cell_type": "code",
      "metadata": {
        "id": "qFtiQazAyFsi"
      },
      "source": [
        ""
      ],
      "execution_count": null,
      "outputs": []
    },
    {
      "cell_type": "markdown",
      "metadata": {
        "id": "ty4zIcpYxfGL"
      },
      "source": [
        "**9.** Womens have a bigger chance of get a health insurance\r\n",
        "\r\n"
      ]
    },
    {
      "cell_type": "code",
      "metadata": {
        "id": "HSAKT7qJyGAp"
      },
      "source": [
        ""
      ],
      "execution_count": null,
      "outputs": []
    },
    {
      "cell_type": "markdown",
      "metadata": {
        "id": "OvRyh49Yxe5C"
      },
      "source": [
        "**10.** Clients with new cars have more chance of get the heath insurance\r\n",
        "\r\n"
      ]
    },
    {
      "cell_type": "code",
      "metadata": {
        "id": "O9CeHua9yGUh"
      },
      "source": [
        ""
      ],
      "execution_count": null,
      "outputs": []
    },
    {
      "cell_type": "markdown",
      "metadata": {
        "id": "sCIxRHBXxe2j"
      },
      "source": [
        "**11.** Clients with old cars have more chance of get the heath insurance\r\n",
        "\r\n"
      ]
    },
    {
      "cell_type": "code",
      "metadata": {
        "id": "IcV-FeKByGpI"
      },
      "source": [
        ""
      ],
      "execution_count": null,
      "outputs": []
    },
    {
      "cell_type": "markdown",
      "metadata": {
        "id": "j3dVAcZKxdlA"
      },
      "source": [
        "**12.** Clients with previously vehicle damage have a higher chance of get a health insurance\r\n",
        "\r\n"
      ]
    },
    {
      "cell_type": "code",
      "metadata": {
        "id": "avxr3Z69yG7Z"
      },
      "source": [
        ""
      ],
      "execution_count": null,
      "outputs": []
    },
    {
      "cell_type": "markdown",
      "metadata": {
        "id": "_RjZJgPqxopV"
      },
      "source": [
        "**13.** Clients with no previously vehicle damage have a higher chance of get a health insurance"
      ]
    },
    {
      "cell_type": "code",
      "metadata": {
        "id": "t6HqjNnRyHRJ"
      },
      "source": [
        ""
      ],
      "execution_count": null,
      "outputs": []
    },
    {
      "cell_type": "markdown",
      "metadata": {
        "id": "b5UVMhyO06HM"
      },
      "source": [
        "## 4.3. Multivariaty Analysis"
      ]
    },
    {
      "cell_type": "code",
      "metadata": {
        "id": "co7fwhzeS1_l"
      },
      "source": [
        "df4['driving_license'].replace( 'no', 0, inplace = True)\r\n",
        "df4['driving_license'].replace( 'yes', 1, inplace = True)\r\n",
        "\r\n",
        "df4['previously_insured'].replace( 'no', 0, inplace = True)\r\n",
        "df4['previously_insured'].replace( 'yes', 1, inplace = True)\r\n",
        "\r\n",
        "df4['response'].replace( 'no', 0, inplace = True)\r\n",
        "df4['response'].replace( 'yes', 1, inplace = True)"
      ],
      "execution_count": null,
      "outputs": []
    },
    {
      "cell_type": "code",
      "metadata": {
        "id": "ISqgy42qSJmz"
      },
      "source": [
        "num_attributes = df4.select_dtypes( include = ['int64', 'float64'] )\r\n",
        "cat_attributes = df4.select_dtypes( exclude = ['int64', 'float64'] )"
      ],
      "execution_count": null,
      "outputs": []
    },
    {
      "cell_type": "markdown",
      "metadata": {
        "id": "_JdBM2lX1C3l"
      },
      "source": [
        "### 4.3.1 Numerical Analysis"
      ]
    },
    {
      "cell_type": "code",
      "metadata": {
        "colab": {
          "base_uri": "https://localhost:8080/",
          "height": 1000
        },
        "id": "wWNjrvK44RKn",
        "outputId": "5cc11615-bd20-476d-883f-756c9071e1dc"
      },
      "source": [
        "corr = num_attributes.corr()\n",
        "\n",
        "mask = np.zeros_like(corr)\n",
        "mask[np.triu_indices_from(mask)] = True\n",
        "\n",
        "with sns.axes_style('white'):\n",
        "  ax = sns.heatmap(corr, annot = True, mask = mask, vmin = -1, center = 0, vmax = 1, square = True)"
      ],
      "execution_count": null,
      "outputs": [
        {
          "output_type": "display_data",
          "data": {
            "image/png": "[encoded data removed]",
            "text/plain": [
              "<Figure size 1800x1440 with 2 Axes>"
            ]
          },
          "metadata": {
            "tags": []
          }
        }
      ]
    },
    {
      "cell_type": "markdown",
      "metadata": {
        "id": "MG_kNM_P1U6y"
      },
      "source": [
        "### 4.3.2 Categorical Variables"
      ]
    },
    {
      "cell_type": "code",
      "metadata": {
        "id": "vxTcFLiP1U_s"
      },
      "source": [
        "# corr = cat_attributes.corr()\r\n",
        "\r\n",
        "# mask = np.zeros_like(corr)\r\n",
        "# mask[np.triu_indices_from(mask)] = True\r\n",
        "\r\n",
        "# with sns.axes_style('white'):\r\n",
        "#   ax = sns.heatmap(corr, annot = True, mask = mask, vmin = -1, center = 0, vmax = 1, square = True)"
      ],
      "execution_count": null,
      "outputs": []
    },
    {
      "cell_type": "markdown",
      "metadata": {
        "id": "jtubP7AmplLo"
      },
      "source": [
        "### 4.3.3 Save"
      ]
    },
    {
      "cell_type": "code",
      "metadata": {
        "id": "2auRyKFFpgE0"
      },
      "source": [
        "df4.to_csv(path+'/Data/df5.csv',index_label= False)"
      ],
      "execution_count": null,
      "outputs": []
    },
    {
      "cell_type": "markdown",
      "metadata": {
        "id": "hypf1p8xHZQm"
      },
      "source": [
        "# 5.0. Data Preparation"
      ]
    },
    {
      "cell_type": "code",
      "metadata": {
        "id": "3I4LxAcmHZTd"
      },
      "source": [
        "df5 = pd.read_csv(path+'/Data/df5.csv')"
      ],
      "execution_count": 18,
      "outputs": []
    },
    {
      "cell_type": "code",
      "metadata": {
        "id": "eQQ3iqdYp478"
      },
      "source": [
        "X_train = df5.drop('response', axis = 1 )\r\n",
        "y_train = pd.read_csv(path+'/Data/test.csv')\r\n",
        "y_train = y_train['response']\r\n",
        "\r\n"
      ],
      "execution_count": 19,
      "outputs": []
    },
    {
      "cell_type": "markdown",
      "metadata": {
        "id": "Ykpjo1NGp4_C"
      },
      "source": [
        "## 5.1. Standardization"
      ]
    },
    {
      "cell_type": "code",
      "metadata": {
        "id": "kzNBNjTkp5B0"
      },
      "source": [
        "ss = pp.StandardScaler()\r\n",
        "\r\n",
        "#annual_premium\r\n",
        "df5['annual_premium'] = ss.fit_transform( df5[['annual_premium']].values )"
      ],
      "execution_count": 26,
      "outputs": []
    },
    {
      "cell_type": "markdown",
      "metadata": {
        "id": "trAUSnnnp5Ey"
      },
      "source": [
        "## 5.2. Rescaling"
      ]
    },
    {
      "cell_type": "code",
      "metadata": {
        "id": "loiNsRtgp5Hh"
      },
      "source": [
        "mms_age = pp.MinMaxScaler()\r\n",
        "mms_vintage = pp.MinMaxScaler()\r\n",
        "\r\n",
        "#Age\r\n",
        "df5['age'] = mms_age.fit_transform( df5[['age']].values)\r\n",
        "\r\n",
        "#Vintage\r\n",
        "df5['vintage'] = mms_vintage.fit_transform( df5[['vintage']].values)"
      ],
      "execution_count": 28,
      "outputs": []
    },
    {
      "cell_type": "markdown",
      "metadata": {
        "id": "L2b-LNFgp5J3"
      },
      "source": [
        "## 5.3. Encoder"
      ]
    },
    {
      "cell_type": "code",
      "metadata": {
        "id": "fDcINms_uOBZ"
      },
      "source": [
        "# gender\r\n",
        "target_encode_gender = df5.groupby('gender')['response'].mean()\r\n",
        "df5.loc[:, 'gender'] = df5['gender'].map( target_encode_gender )\r\n",
        "\r\n",
        "# region_code\r\n",
        "target_encode_region_code = df5.groupby( 'region_code')['response'].mean()\r\n",
        "df5.loc[:, 'regoin_code'] = df5['region_code'].map(target_encode_region_code)\r\n",
        "\r\n",
        "#vehicle_age\r\n",
        "df5 = pd.get_dummies( df5, prefix = 'vehicle_age', columns = ['vehicle_age'] )\r\n",
        "\r\n",
        "# policy_sales_channel\r\n",
        "fe_policy_sales_channel = df5.groupby( 'policy_sales_channel').size() / len(df5)\r\n",
        "df5.loc[:, 'policy_sales_channel'] = df5['policy_sales_channel'].map( fe_policy_sales_channel )\r\n"
      ],
      "execution_count": null,
      "outputs": []
    },
    {
      "cell_type": "markdown",
      "metadata": {
        "id": "m0uQQlmzv5jH"
      },
      "source": [
        "## 5.4 Validation Preparation"
      ]
    },
    {
      "cell_type": "code",
      "metadata": {
        "id": "cITG6HVyv8yW"
      },
      "source": [
        ""
      ],
      "execution_count": null,
      "outputs": []
    },
    {
      "cell_type": "markdown",
      "metadata": {
        "id": "ibny804MQdTX"
      },
      "source": [
        "# 6.0. Feature Selection"
      ]
    },
    {
      "cell_type": "code",
      "metadata": {
        "id": "21_Pm62ZQgyv"
      },
      "source": [
        ""
      ],
      "execution_count": null,
      "outputs": []
    },
    {
      "cell_type": "markdown",
      "metadata": {
        "id": "VDMbmS2NHZb_"
      },
      "source": [
        "# 7.0 Machine Learning Model"
      ]
    },
    {
      "cell_type": "code",
      "metadata": {
        "id": "Q9gPITy1HZel"
      },
      "source": [
        ""
      ],
      "execution_count": null,
      "outputs": []
    },
    {
      "cell_type": "code",
      "metadata": {
        "id": "KEt130c6HZhV"
      },
      "source": [
        ""
      ],
      "execution_count": null,
      "outputs": []
    },
    {
      "cell_type": "code",
      "metadata": {
        "id": "VcEzSMrMHZkH"
      },
      "source": [
        ""
      ],
      "execution_count": null,
      "outputs": []
    },
    {
      "cell_type": "code",
      "metadata": {
        "id": "qZpgGRAUHZmt"
      },
      "source": [
        ""
      ],
      "execution_count": null,
      "outputs": []
    },
    {
      "cell_type": "code",
      "metadata": {
        "id": "awm71lS8HZpd"
      },
      "source": [
        ""
      ],
      "execution_count": null,
      "outputs": []
    },
    {
      "cell_type": "code",
      "metadata": {
        "id": "-Jphr83rHZsP"
      },
      "source": [
        ""
      ],
      "execution_count": null,
      "outputs": []
    },
    {
      "cell_type": "code",
      "metadata": {
        "id": "-ekjKLusHZu2"
      },
      "source": [
        ""
      ],
      "execution_count": null,
      "outputs": []
    }
  ]
}